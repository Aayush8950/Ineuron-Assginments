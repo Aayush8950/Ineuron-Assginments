{
 "cells": [
  {
   "cell_type": "markdown",
   "id": "4b080344",
   "metadata": {},
   "source": [
    "# 1. What exactly is []?"
   ]
  },
  {
   "cell_type": "code",
   "execution_count": 1,
   "id": "73d03132",
   "metadata": {},
   "outputs": [],
   "source": [
    "# it is simply a bracket which stores list "
   ]
  },
  {
   "cell_type": "markdown",
   "id": "eeb64af1",
   "metadata": {},
   "source": [
    "# 2. In a list of values stored in a variable called spam, how would you assign the value &#39;hello&#39; as the\n",
    "third value? (Assume [2, 4, 6, 8, 10] are in spam.)"
   ]
  },
  {
   "cell_type": "code",
   "execution_count": 2,
   "id": "2ba6522c",
   "metadata": {},
   "outputs": [],
   "source": [
    "l=[2,4,6,8,10]"
   ]
  },
  {
   "cell_type": "markdown",
   "id": "75aefcc9",
   "metadata": {},
   "source": [
    "#in list third value means indexwise 2"
   ]
  },
  {
   "cell_type": "code",
   "execution_count": 3,
   "id": "a9724ffb",
   "metadata": {},
   "outputs": [],
   "source": [
    "l[2]=\"hello\""
   ]
  },
  {
   "cell_type": "code",
   "execution_count": 4,
   "id": "515b6d74",
   "metadata": {},
   "outputs": [
    {
     "data": {
      "text/plain": [
       "[2, 4, 'hello', 8, 10]"
      ]
     },
     "execution_count": 4,
     "metadata": {},
     "output_type": "execute_result"
    }
   ],
   "source": [
    "l"
   ]
  },
  {
   "cell_type": "markdown",
   "id": "33ec5e57",
   "metadata": {},
   "source": [
    "# Let&#39;s pretend the spam includes the list [&#39;a&#39;, &#39;b&#39;, &#39;c&#39;, &#39;d&#39;] for the next three queries."
   ]
  },
  {
   "cell_type": "markdown",
   "id": "1f9b8011",
   "metadata": {},
   "source": [
    "# 3. What is the value of spam[int(int(&#39;3&#39; * 2) / 11)]?"
   ]
  },
  {
   "cell_type": "code",
   "execution_count": 5,
   "id": "204d1079",
   "metadata": {},
   "outputs": [],
   "source": [
    "l1=['a', 'b', 'c', 'd']"
   ]
  },
  {
   "cell_type": "code",
   "execution_count": 6,
   "id": "f1fb9f7c",
   "metadata": {},
   "outputs": [],
   "source": [
    "spam=l1"
   ]
  },
  {
   "cell_type": "code",
   "execution_count": 7,
   "id": "50cb84f9",
   "metadata": {},
   "outputs": [
    {
     "data": {
      "text/plain": [
       "['a', 'b', 'c', 'd']"
      ]
     },
     "execution_count": 7,
     "metadata": {},
     "output_type": "execute_result"
    }
   ],
   "source": [
    "spam"
   ]
  },
  {
   "cell_type": "code",
   "execution_count": 8,
   "id": "54959d6b",
   "metadata": {},
   "outputs": [
    {
     "data": {
      "text/plain": [
       "'d'"
      ]
     },
     "execution_count": 8,
     "metadata": {},
     "output_type": "execute_result"
    }
   ],
   "source": [
    "spam[int(int('3' * 2) / 11)]"
   ]
  },
  {
   "cell_type": "markdown",
   "id": "e447460f",
   "metadata": {},
   "source": [
    "# 4. What is the value of spam[-1]?"
   ]
  },
  {
   "cell_type": "code",
   "execution_count": 23,
   "id": "69aac752",
   "metadata": {},
   "outputs": [
    {
     "data": {
      "text/plain": [
       "'d'"
      ]
     },
     "execution_count": 23,
     "metadata": {},
     "output_type": "execute_result"
    }
   ],
   "source": [
    "spam[-1]"
   ]
  },
  {
   "cell_type": "markdown",
   "id": "db202e7b",
   "metadata": {},
   "source": [
    "# 5. What is the value of spam[:2]?"
   ]
  },
  {
   "cell_type": "code",
   "execution_count": 9,
   "id": "384908f3",
   "metadata": {},
   "outputs": [
    {
     "data": {
      "text/plain": [
       "['a', 'b']"
      ]
     },
     "execution_count": 9,
     "metadata": {},
     "output_type": "execute_result"
    }
   ],
   "source": [
    "spam[:2]"
   ]
  },
  {
   "cell_type": "code",
   "execution_count": 10,
   "id": "62530d75",
   "metadata": {},
   "outputs": [],
   "source": [
    "# it goes from 0 to 2 excluding 2         , thats how range works"
   ]
  },
  {
   "cell_type": "markdown",
   "id": "c4368090",
   "metadata": {},
   "source": [
    "# Let&#39;s pretend bacon has the list [3.14, &#39;cat,&#39; 11, &#39;cat,&#39; True] for the next three questions."
   ]
  },
  {
   "cell_type": "markdown",
   "id": "71a2f5a1",
   "metadata": {},
   "source": [
    "# 6. What is the value of bacon.index(&#39;cat&#39;)?"
   ]
  },
  {
   "cell_type": "code",
   "execution_count": 14,
   "id": "4cc3021d",
   "metadata": {},
   "outputs": [],
   "source": [
    "bacon=[3.14, 'cat', 11, 'cat',True]"
   ]
  },
  {
   "cell_type": "code",
   "execution_count": 15,
   "id": "588579b5",
   "metadata": {},
   "outputs": [
    {
     "data": {
      "text/plain": [
       "1"
      ]
     },
     "execution_count": 15,
     "metadata": {},
     "output_type": "execute_result"
    }
   ],
   "source": [
    "bacon.index('cat')"
   ]
  },
  {
   "cell_type": "code",
   "execution_count": 16,
   "id": "9b737971",
   "metadata": {},
   "outputs": [],
   "source": [
    "#                 it simply findies at which number cat is in the list"
   ]
  },
  {
   "cell_type": "markdown",
   "id": "9440e6f3",
   "metadata": {},
   "source": [
    "# 7. How does bacon.append(99) change the look of the list value in bacon?"
   ]
  },
  {
   "cell_type": "code",
   "execution_count": 17,
   "id": "8a616e70",
   "metadata": {},
   "outputs": [],
   "source": [
    "bacon.append(99)"
   ]
  },
  {
   "cell_type": "code",
   "execution_count": 18,
   "id": "583ee8a0",
   "metadata": {},
   "outputs": [
    {
     "data": {
      "text/plain": [
       "[3.14, 'cat', 11, 'cat', True, 99]"
      ]
     },
     "execution_count": 18,
     "metadata": {},
     "output_type": "execute_result"
    }
   ],
   "source": [
    "bacon"
   ]
  },
  {
   "cell_type": "code",
   "execution_count": 19,
   "id": "52019955",
   "metadata": {},
   "outputs": [],
   "source": [
    "#it simply add 99 in the list"
   ]
  },
  {
   "cell_type": "markdown",
   "id": "25851e16",
   "metadata": {},
   "source": [
    "# 8. How does bacon.remove(&#39;cat&#39;) change the look of the list in bacon?"
   ]
  },
  {
   "cell_type": "code",
   "execution_count": 20,
   "id": "ec6e3b4e",
   "metadata": {},
   "outputs": [],
   "source": [
    "bacon.remove('cat')"
   ]
  },
  {
   "cell_type": "code",
   "execution_count": 21,
   "id": "71238340",
   "metadata": {},
   "outputs": [
    {
     "data": {
      "text/plain": [
       "[3.14, 11, 'cat', True, 99]"
      ]
     },
     "execution_count": 21,
     "metadata": {},
     "output_type": "execute_result"
    }
   ],
   "source": [
    "bacon"
   ]
  },
  {
   "cell_type": "code",
   "execution_count": 22,
   "id": "ba92d265",
   "metadata": {},
   "outputs": [],
   "source": [
    "#it removes index no. 1 cat"
   ]
  },
  {
   "cell_type": "markdown",
   "id": "839f8879",
   "metadata": {},
   "source": [
    "# 9. What are the list concatenation and list replication operators?"
   ]
  },
  {
   "cell_type": "code",
   "execution_count": 1,
   "id": "c4251cba",
   "metadata": {},
   "outputs": [],
   "source": [
    "#list concatenation is looks like this"
   ]
  },
  {
   "cell_type": "code",
   "execution_count": 6,
   "id": "a3acfaeb",
   "metadata": {},
   "outputs": [
    {
     "data": {
      "text/plain": [
       "[1, 2, 3, 4, 5, 6, 'aayush']"
      ]
     },
     "execution_count": 6,
     "metadata": {},
     "output_type": "execute_result"
    }
   ],
   "source": [
    "[1,2,3,4,5,6]+[\"aayush\"]"
   ]
  },
  {
   "cell_type": "code",
   "execution_count": 7,
   "id": "606ae125",
   "metadata": {},
   "outputs": [],
   "source": [
    "#list replication"
   ]
  },
  {
   "cell_type": "code",
   "execution_count": 8,
   "id": "bef021aa",
   "metadata": {},
   "outputs": [],
   "source": [
    "m=[\"aayuhs\",1,346,8+9j,\"hlo\"]"
   ]
  },
  {
   "cell_type": "code",
   "execution_count": 9,
   "id": "54b06524",
   "metadata": {},
   "outputs": [
    {
     "data": {
      "text/plain": [
       "['aayuhs', 1, 346, (8+9j), 'hlo', 'aayuhs', 1, 346, (8+9j), 'hlo']"
      ]
     },
     "execution_count": 9,
     "metadata": {},
     "output_type": "execute_result"
    }
   ],
   "source": [
    "m*2"
   ]
  },
  {
   "cell_type": "markdown",
   "id": "21beecdd",
   "metadata": {},
   "source": [
    "# 10. What is difference between the list methods append() and insert()?"
   ]
  },
  {
   "cell_type": "code",
   "execution_count": 10,
   "id": "54a02f4d",
   "metadata": {},
   "outputs": [],
   "source": [
    "#in append it adds the whole list including braces "
   ]
  },
  {
   "cell_type": "code",
   "execution_count": 20,
   "id": "a1462f3a",
   "metadata": {},
   "outputs": [],
   "source": [
    "a=[1,2,3,4]\n",
    "b=[\"aayush\", \"is \", \"a\",\"boy\"]\n"
   ]
  },
  {
   "cell_type": "code",
   "execution_count": 21,
   "id": "668230f3",
   "metadata": {},
   "outputs": [],
   "source": [
    "a.append(b)"
   ]
  },
  {
   "cell_type": "code",
   "execution_count": 22,
   "id": "0b51698a",
   "metadata": {},
   "outputs": [
    {
     "data": {
      "text/plain": [
       "[1, 2, 3, 4, ['aayush', 'is ', 'a', 'boy']]"
      ]
     },
     "execution_count": 22,
     "metadata": {},
     "output_type": "execute_result"
    }
   ],
   "source": [
    "a         "
   ]
  },
  {
   "cell_type": "code",
   "execution_count": 29,
   "id": "cfc2f68c",
   "metadata": {},
   "outputs": [],
   "source": [
    "#in inser it adds the whole list directly like a entered value on the place you want"
   ]
  },
  {
   "cell_type": "code",
   "execution_count": 27,
   "id": "d5317962",
   "metadata": {},
   "outputs": [],
   "source": [
    "a.insert(1,b)"
   ]
  },
  {
   "cell_type": "code",
   "execution_count": 28,
   "id": "9562580e",
   "metadata": {},
   "outputs": [
    {
     "data": {
      "text/plain": [
       "[1,\n",
       " ['aayush', [...], 'is ', 'a', 'boy'],\n",
       " 2,\n",
       " 3,\n",
       " 4,\n",
       " ['aayush', [...], 'is ', 'a', 'boy']]"
      ]
     },
     "execution_count": 28,
     "metadata": {},
     "output_type": "execute_result"
    }
   ],
   "source": [
    "a"
   ]
  },
  {
   "cell_type": "markdown",
   "id": "46f86e7a",
   "metadata": {},
   "source": [
    "# 11. What are the two methods for removing items from a list?"
   ]
  },
  {
   "cell_type": "code",
   "execution_count": 30,
   "id": "534b7afe",
   "metadata": {},
   "outputs": [
    {
     "data": {
      "text/plain": [
       "[1,\n",
       " ['aayush', [...], 'is ', 'a', 'boy'],\n",
       " 2,\n",
       " 3,\n",
       " 4,\n",
       " ['aayush', [...], 'is ', 'a', 'boy']]"
      ]
     },
     "execution_count": 30,
     "metadata": {},
     "output_type": "execute_result"
    }
   ],
   "source": [
    "a"
   ]
  },
  {
   "cell_type": "code",
   "execution_count": 31,
   "id": "31bef4be",
   "metadata": {},
   "outputs": [],
   "source": [
    "a.remove(1)"
   ]
  },
  {
   "cell_type": "code",
   "execution_count": 34,
   "id": "5f25f148",
   "metadata": {},
   "outputs": [
    {
     "data": {
      "text/plain": [
       "[['aayush', [...], 'is ', 'a', 'boy'],\n",
       " 2,\n",
       " 3,\n",
       " 4,\n",
       " ['aayush', [...], 'is ', 'a', 'boy']]"
      ]
     },
     "execution_count": 34,
     "metadata": {},
     "output_type": "execute_result"
    }
   ],
   "source": [
    "a        #1 is removed from list"
   ]
  },
  {
   "cell_type": "code",
   "execution_count": 36,
   "id": "8a21dd40",
   "metadata": {},
   "outputs": [],
   "source": [
    "a.clear()"
   ]
  },
  {
   "cell_type": "code",
   "execution_count": 37,
   "id": "434e562d",
   "metadata": {},
   "outputs": [
    {
     "data": {
      "text/plain": [
       "[]"
      ]
     },
     "execution_count": 37,
     "metadata": {},
     "output_type": "execute_result"
    }
   ],
   "source": [
    "a"
   ]
  },
  {
   "cell_type": "markdown",
   "id": "ce8c1d18",
   "metadata": {},
   "source": [
    "# 12. Describe how list values and string values are identical."
   ]
  },
  {
   "cell_type": "code",
   "execution_count": 1,
   "id": "d1f24809",
   "metadata": {},
   "outputs": [],
   "source": [
    "#The similarity between Lists and Strings in Python is that both are sequences. "
   ]
  },
  {
   "cell_type": "code",
   "execution_count": null,
   "id": "078815f6",
   "metadata": {},
   "outputs": [],
   "source": [
    "#Lists are similar to strings, which are ordered collections of characters"
   ]
  },
  {
   "cell_type": "code",
   "execution_count": null,
   "id": "736f37dd",
   "metadata": {},
   "outputs": [],
   "source": []
  },
  {
   "cell_type": "code",
   "execution_count": null,
   "id": "0e255bba",
   "metadata": {},
   "outputs": [],
   "source": []
  },
  {
   "cell_type": "markdown",
   "id": "d897ff59",
   "metadata": {},
   "source": [
    "# 13. What&#39;s the difference between tuples and lists?"
   ]
  },
  {
   "cell_type": "markdown",
   "id": "8b174825",
   "metadata": {},
   "source": [
    "#tuples does not allow to make changes"
   ]
  },
  {
   "cell_type": "code",
   "execution_count": 2,
   "id": "a6f4c9e1",
   "metadata": {},
   "outputs": [],
   "source": [
    "t=(1,2,3,4)"
   ]
  },
  {
   "cell_type": "code",
   "execution_count": 14,
   "id": "80139643",
   "metadata": {},
   "outputs": [
    {
     "ename": "AttributeError",
     "evalue": "'tuple' object has no attribute 'insert'",
     "output_type": "error",
     "traceback": [
      "\u001b[1;31m---------------------------------------------------------------------------\u001b[0m",
      "\u001b[1;31mAttributeError\u001b[0m                            Traceback (most recent call last)",
      "\u001b[1;32m~\\AppData\\Local\\Temp/ipykernel_11072/3371080627.py\u001b[0m in \u001b[0;36m<module>\u001b[1;34m\u001b[0m\n\u001b[1;32m----> 1\u001b[1;33m \u001b[0mt\u001b[0m\u001b[1;33m.\u001b[0m\u001b[0minsert\u001b[0m\u001b[1;33m(\u001b[0m\u001b[1;36m0\u001b[0m\u001b[1;33m,\u001b[0m\u001b[1;34m\"it does not allow to make change\"\u001b[0m\u001b[1;33m)\u001b[0m\u001b[1;33m\u001b[0m\u001b[1;33m\u001b[0m\u001b[0m\n\u001b[0m",
      "\u001b[1;31mAttributeError\u001b[0m: 'tuple' object has no attribute 'insert'"
     ]
    }
   ],
   "source": [
    "t.insert(0,\"it does not allow to make change\")       "
   ]
  },
  {
   "cell_type": "markdown",
   "id": "46ee305e",
   "metadata": {},
   "source": [
    "# list allows us to make changes in list"
   ]
  },
  {
   "cell_type": "code",
   "execution_count": 15,
   "id": "7f9d2717",
   "metadata": {},
   "outputs": [],
   "source": [
    "l=[1,2,3]"
   ]
  },
  {
   "cell_type": "code",
   "execution_count": 26,
   "id": "141ca094",
   "metadata": {},
   "outputs": [],
   "source": [
    "l.insert(0,\"please give me full marks\")"
   ]
  },
  {
   "cell_type": "code",
   "execution_count": 27,
   "id": "66487bd0",
   "metadata": {},
   "outputs": [
    {
     "data": {
      "text/plain": [
       "['please give me full marks', 'please give me full marks', 1, 2, 3]"
      ]
     },
     "execution_count": 27,
     "metadata": {},
     "output_type": "execute_result"
    }
   ],
   "source": [
    "l"
   ]
  },
  {
   "cell_type": "markdown",
   "id": "d1f92ce7",
   "metadata": {},
   "source": [
    "# 14. How do you type a tuple value that only contains the integer 42?"
   ]
  },
  {
   "cell_type": "code",
   "execution_count": 36,
   "id": "6ca55816",
   "metadata": {},
   "outputs": [],
   "source": [
    "ll=[42]"
   ]
  },
  {
   "cell_type": "code",
   "execution_count": 37,
   "id": "3ecdf9a3",
   "metadata": {},
   "outputs": [],
   "source": [
    "v=tuple(ll)"
   ]
  },
  {
   "cell_type": "code",
   "execution_count": 38,
   "id": "97bfd558",
   "metadata": {},
   "outputs": [
    {
     "data": {
      "text/plain": [
       "(42,)"
      ]
     },
     "execution_count": 38,
     "metadata": {},
     "output_type": "execute_result"
    }
   ],
   "source": [
    "v"
   ]
  },
  {
   "cell_type": "markdown",
   "id": "0d1eb948",
   "metadata": {},
   "source": [
    "# 15. How do you get a list value&#39;s tuple form? How do you get a tuple value&#39;s list form?"
   ]
  },
  {
   "cell_type": "code",
   "execution_count": 2,
   "id": "5b0170b3",
   "metadata": {},
   "outputs": [],
   "source": [
    "l=[1,2,3,4,5]"
   ]
  },
  {
   "cell_type": "code",
   "execution_count": 3,
   "id": "ea6e5e40",
   "metadata": {},
   "outputs": [],
   "source": [
    "a=tuple(l)"
   ]
  },
  {
   "cell_type": "code",
   "execution_count": 4,
   "id": "a8d5122c",
   "metadata": {},
   "outputs": [
    {
     "data": {
      "text/plain": [
       "(1, 2, 3, 4, 5)"
      ]
     },
     "execution_count": 4,
     "metadata": {},
     "output_type": "execute_result"
    }
   ],
   "source": [
    "a"
   ]
  },
  {
   "cell_type": "code",
   "execution_count": 5,
   "id": "bd3a3670",
   "metadata": {},
   "outputs": [],
   "source": [
    "t=(\"dsaf\",\"it is a tuple \",1,2,3)"
   ]
  },
  {
   "cell_type": "code",
   "execution_count": 6,
   "id": "ac390207",
   "metadata": {},
   "outputs": [],
   "source": [
    "b=list(t)"
   ]
  },
  {
   "cell_type": "code",
   "execution_count": 7,
   "id": "d963273d",
   "metadata": {},
   "outputs": [
    {
     "data": {
      "text/plain": [
       "['dsaf', 'it is a tuple ', 1, 2, 3]"
      ]
     },
     "execution_count": 7,
     "metadata": {},
     "output_type": "execute_result"
    }
   ],
   "source": [
    "b"
   ]
  },
  {
   "cell_type": "markdown",
   "id": "2d972939",
   "metadata": {},
   "source": [
    "# 16. Variables that &quot;contain&quot; list values are not necessarily lists themselves. Instead, what do they\n",
    "contain?"
   ]
  },
  {
   "cell_type": "code",
   "execution_count": null,
   "id": "9c51a2a6",
   "metadata": {},
   "outputs": [],
   "source": [
    "#nhi aata\n"
   ]
  },
  {
   "cell_type": "code",
   "execution_count": null,
   "id": "d506a18f",
   "metadata": {},
   "outputs": [],
   "source": []
  },
  {
   "cell_type": "markdown",
   "id": "55b652c5",
   "metadata": {},
   "source": [
    "# 17. How do you distinguish between copy.copy() and copy.deepcopy()?"
   ]
  },
  {
   "cell_type": "code",
   "execution_count": 2,
   "id": "ec548d82",
   "metadata": {},
   "outputs": [],
   "source": [
    "#nhi aata\n"
   ]
  },
  {
   "cell_type": "code",
   "execution_count": null,
   "id": "3aae7c7d",
   "metadata": {},
   "outputs": [],
   "source": []
  },
  {
   "cell_type": "code",
   "execution_count": null,
   "id": "c74c24b7",
   "metadata": {},
   "outputs": [],
   "source": []
  }
 ],
 "metadata": {
  "kernelspec": {
   "display_name": "Python 3 (ipykernel)",
   "language": "python",
   "name": "python3"
  },
  "language_info": {
   "codemirror_mode": {
    "name": "ipython",
    "version": 3
   },
   "file_extension": ".py",
   "mimetype": "text/x-python",
   "name": "python",
   "nbconvert_exporter": "python",
   "pygments_lexer": "ipython3",
   "version": "3.9.7"
  }
 },
 "nbformat": 4,
 "nbformat_minor": 5
}
