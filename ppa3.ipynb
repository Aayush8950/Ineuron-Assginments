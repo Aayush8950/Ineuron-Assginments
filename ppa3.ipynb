{
 "cells": [
  {
   "cell_type": "markdown",
   "id": "97c320c3",
   "metadata": {},
   "source": [
    "# 1. Write a Python Program to Check if a Number is Positive, Negative or Zero?"
   ]
  },
  {
   "cell_type": "code",
   "execution_count": 1,
   "id": "1af6cfb6",
   "metadata": {},
   "outputs": [],
   "source": [
    "def pnz():\n",
    "    i=True\n",
    "    while i:\n",
    "        try:\n",
    "            a=int(input())\n",
    "            print(\"you succesfully entered a integer\")\n",
    "            i=False\n",
    "        except:\n",
    "            print(\"please type an integer\")\n",
    "    if a>0:\n",
    "        print(\"your entered value is positive\")\n",
    "    elif a<0:\n",
    "        print(\"your entered value is negative\")\n",
    "    else:\n",
    "        print(\"your entered value is zero\")"
   ]
  },
  {
   "cell_type": "code",
   "execution_count": 2,
   "id": "64df6c18",
   "metadata": {},
   "outputs": [
    {
     "name": "stdout",
     "output_type": "stream",
     "text": [
      "6\n",
      "you succesfully entered a integer\n",
      "your entered value is positive\n"
     ]
    }
   ],
   "source": [
    "pnz()"
   ]
  },
  {
   "cell_type": "markdown",
   "id": "69fa9429",
   "metadata": {},
   "source": [
    "# 2. Write a Python Program to Check if a Number is Odd or Even?"
   ]
  },
  {
   "cell_type": "code",
   "execution_count": 3,
   "id": "b93b2463",
   "metadata": {},
   "outputs": [],
   "source": [
    "def oe():\n",
    "    i=True\n",
    "    while i:\n",
    "        try:\n",
    "            a=int(input())\n",
    "            print(\"you succesfully entered a integer\")\n",
    "            i=False\n",
    "        except:\n",
    "            print(\"please type an integer\")\n",
    "            \n",
    "    if a%2==0:\n",
    "        print(\"you entered a even number\")\n",
    "    elif a%2!=0 :\n",
    "        print(\"you entered a odd no.\")"
   ]
  },
  {
   "cell_type": "code",
   "execution_count": 5,
   "id": "20ab2eb4",
   "metadata": {},
   "outputs": [
    {
     "name": "stdout",
     "output_type": "stream",
     "text": [
      "9\n",
      "you succesfully entered a integer\n",
      "you entered a odd no.\n"
     ]
    }
   ],
   "source": [
    "oe()"
   ]
  },
  {
   "cell_type": "code",
   "execution_count": null,
   "id": "54215af9",
   "metadata": {},
   "outputs": [],
   "source": []
  },
  {
   "cell_type": "markdown",
   "id": "62152965",
   "metadata": {},
   "source": [
    "# 3. Write a Python Program to Check Leap Year?"
   ]
  },
  {
   "cell_type": "code",
   "execution_count": 6,
   "id": "86334735",
   "metadata": {},
   "outputs": [],
   "source": [
    "def leapyear():\n",
    "    i=True\n",
    "    while i:\n",
    "        try:\n",
    "            a=int(input(\"Enter the year to check whether its leap or not   \"))\n",
    "            print(\"you succesfully entered a year\")\n",
    "            i=False\n",
    "        except:\n",
    "            print(\"please type an integer\")\n",
    "            \n",
    "    if a%4==0:\n",
    "        print(\"you entered a leap year\")\n",
    "    elif a%4!=0 :\n",
    "        print(\"you entered a normal year.\")"
   ]
  },
  {
   "cell_type": "code",
   "execution_count": 7,
   "id": "7b4d21f6",
   "metadata": {},
   "outputs": [
    {
     "name": "stdout",
     "output_type": "stream",
     "text": [
      "Enter the year to check whether its leap or not   2012\n",
      "you succesfully entered a year\n",
      "you entered a leap year\n"
     ]
    }
   ],
   "source": [
    "leapyear()"
   ]
  },
  {
   "cell_type": "code",
   "execution_count": 8,
   "id": "d69cec4f",
   "metadata": {},
   "outputs": [
    {
     "name": "stdout",
     "output_type": "stream",
     "text": [
      "Enter the year to check whether its leap or not   2013\n",
      "you succesfully entered a year\n",
      "you entered a normal year.\n"
     ]
    }
   ],
   "source": [
    "leapyear()"
   ]
  },
  {
   "cell_type": "code",
   "execution_count": null,
   "id": "6ae90d03",
   "metadata": {},
   "outputs": [],
   "source": []
  },
  {
   "cell_type": "markdown",
   "id": "222e3717",
   "metadata": {},
   "source": [
    "# 4. Write a Python Program to Check Prime Number?"
   ]
  },
  {
   "cell_type": "code",
   "execution_count": 37,
   "id": "afc5810e",
   "metadata": {},
   "outputs": [],
   "source": [
    "def prime():\n",
    "    a=int(input(\"enter the doubtful no.:\"))\n",
    "    \n",
    "    for i in range(2,a+1):\n",
    "        if a%i==0:\n",
    "            df1=1\n",
    "        else:\n",
    "            df1=0\n",
    "    if df1==1:\n",
    "        print('yur doubt is coorect', a , 'is  not prime ')\n",
    "    else:\n",
    "        print(\"prime hai\",a)\n",
    "                "
   ]
  },
  {
   "cell_type": "code",
   "execution_count": 38,
   "id": "8f2704c2",
   "metadata": {},
   "outputs": [
    {
     "name": "stdout",
     "output_type": "stream",
     "text": [
      "enter the doubtful no.:200\n",
      "yur doubt is coorect 200 is  not prime \n"
     ]
    }
   ],
   "source": [
    "prime()"
   ]
  },
  {
   "cell_type": "markdown",
   "id": "20001d5f",
   "metadata": {},
   "source": [
    "# 5. Write a Python Program to Print all Prime Numbers in an Interval of 1-10000?"
   ]
  },
  {
   "cell_type": "code",
   "execution_count": 56,
   "id": "f0199f2a",
   "metadata": {},
   "outputs": [
    {
     "name": "stdout",
     "output_type": "stream",
     "text": [
      "2\n",
      "3\n",
      "5\n",
      "7\n",
      "11\n",
      "13\n",
      "17\n",
      "19\n",
      "23\n",
      "29\n",
      "31\n",
      "37\n",
      "41\n",
      "43\n",
      "47\n",
      "53\n",
      "59\n",
      "61\n",
      "67\n",
      "71\n",
      "73\n",
      "79\n",
      "83\n",
      "89\n",
      "97\n",
      "101\n",
      "103\n",
      "107\n",
      "109\n",
      "113\n",
      "127\n",
      "131\n",
      "137\n",
      "139\n",
      "149\n",
      "151\n",
      "157\n",
      "163\n",
      "167\n",
      "173\n",
      "179\n",
      "181\n",
      "191\n",
      "193\n",
      "197\n",
      "199\n",
      "211\n",
      "223\n",
      "227\n",
      "229\n",
      "233\n",
      "239\n",
      "241\n",
      "251\n",
      "257\n",
      "263\n",
      "269\n",
      "271\n",
      "277\n",
      "281\n",
      "283\n",
      "293\n",
      "307\n",
      "311\n",
      "313\n",
      "317\n",
      "331\n",
      "337\n",
      "347\n",
      "349\n",
      "353\n",
      "359\n",
      "367\n",
      "373\n",
      "379\n",
      "383\n",
      "389\n",
      "397\n",
      "401\n",
      "409\n",
      "419\n",
      "421\n",
      "431\n",
      "433\n",
      "439\n",
      "443\n",
      "449\n",
      "457\n",
      "461\n",
      "463\n",
      "467\n",
      "479\n",
      "487\n",
      "491\n",
      "499\n",
      "503\n",
      "509\n",
      "521\n",
      "523\n",
      "541\n",
      "547\n",
      "557\n",
      "563\n",
      "569\n",
      "571\n",
      "577\n",
      "587\n",
      "593\n",
      "599\n",
      "601\n",
      "607\n",
      "613\n",
      "617\n",
      "619\n",
      "631\n",
      "641\n",
      "643\n",
      "647\n",
      "653\n",
      "659\n",
      "661\n",
      "673\n",
      "677\n",
      "683\n",
      "691\n",
      "701\n",
      "709\n",
      "719\n",
      "727\n",
      "733\n",
      "739\n",
      "743\n",
      "751\n",
      "757\n",
      "761\n",
      "769\n",
      "773\n",
      "787\n",
      "797\n",
      "809\n",
      "811\n",
      "821\n",
      "823\n",
      "827\n",
      "829\n",
      "839\n",
      "853\n",
      "857\n",
      "859\n",
      "863\n",
      "877\n",
      "881\n",
      "883\n",
      "887\n",
      "907\n",
      "911\n",
      "919\n",
      "929\n",
      "937\n",
      "941\n",
      "947\n",
      "953\n",
      "967\n",
      "971\n",
      "977\n",
      "983\n",
      "991\n",
      "997\n"
     ]
    }
   ],
   "source": [
    "\n",
    "for i in range(1, 1000 + 1):\n",
    "    \n",
    "    if i > 1:\n",
    "        for b in range(2, i):\n",
    "            if (i % b) == 0:\n",
    "                break\n",
    "        else:\n",
    "            print(i)"
   ]
  },
  {
   "cell_type": "code",
   "execution_count": null,
   "id": "11cc6063",
   "metadata": {},
   "outputs": [],
   "source": []
  }
 ],
 "metadata": {
  "kernelspec": {
   "display_name": "Python 3 (ipykernel)",
   "language": "python",
   "name": "python3"
  },
  "language_info": {
   "codemirror_mode": {
    "name": "ipython",
    "version": 3
   },
   "file_extension": ".py",
   "mimetype": "text/x-python",
   "name": "python",
   "nbconvert_exporter": "python",
   "pygments_lexer": "ipython3",
   "version": "3.9.7"
  }
 },
 "nbformat": 4,
 "nbformat_minor": 5
}
