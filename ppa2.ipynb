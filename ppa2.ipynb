{
 "cells": [
  {
   "cell_type": "markdown",
   "id": "1de257e4",
   "metadata": {},
   "source": [
    "# 1. Write a Python program to convert kilometers to miles?"
   ]
  },
  {
   "cell_type": "code",
   "execution_count": 1,
   "id": "aaa379e1",
   "metadata": {},
   "outputs": [],
   "source": [
    "def kmtomiles():\n",
    "    a=int(input(\"enter the no. of kilometres you want to covert:\"))\n",
    "    b=str(a/1.609) +\"  miles\"\n",
    "    return b "
   ]
  },
  {
   "cell_type": "code",
   "execution_count": 2,
   "id": "77398b06",
   "metadata": {},
   "outputs": [
    {
     "name": "stdout",
     "output_type": "stream",
     "text": [
      "enter the no. of kilometres you want to covert:1\n"
     ]
    },
    {
     "data": {
      "text/plain": [
       "'0.6215040397762586  miles'"
      ]
     },
     "execution_count": 2,
     "metadata": {},
     "output_type": "execute_result"
    }
   ],
   "source": [
    "kmtomiles()"
   ]
  },
  {
   "cell_type": "code",
   "execution_count": null,
   "id": "e6ea2873",
   "metadata": {},
   "outputs": [],
   "source": []
  },
  {
   "cell_type": "markdown",
   "id": "f8c414b6",
   "metadata": {},
   "source": [
    "# 2. Write a Python program to convert Celsius to Fahrenheit?"
   ]
  },
  {
   "cell_type": "code",
   "execution_count": 7,
   "id": "21a1c3ee",
   "metadata": {},
   "outputs": [],
   "source": [
    "def ctof():\n",
    "    i=True\n",
    "    while i:\n",
    "        try:\n",
    "            a=int(input())\n",
    "            print(\"you succesfully entered the celcius temp\",a)\n",
    "            i=False\n",
    "        except:\n",
    "            print(\"please type an integer\")\n",
    "    print(\"yor farenheiht temp is :\",(9/5)*a+32, \"farenheight\")\n",
    "    "
   ]
  },
  {
   "cell_type": "code",
   "execution_count": 8,
   "id": "4a5cee60",
   "metadata": {},
   "outputs": [
    {
     "name": "stdout",
     "output_type": "stream",
     "text": [
      "5\n",
      "you succesfully entered the celcius temp 5\n",
      "yor farenheiht temp is : 41.0 farenheight\n"
     ]
    }
   ],
   "source": [
    "ctof()"
   ]
  },
  {
   "cell_type": "markdown",
   "id": "2d93b6de",
   "metadata": {},
   "source": [
    "# 3. Write a Python program to display calendar?"
   ]
  },
  {
   "cell_type": "code",
   "execution_count": 5,
   "id": "27982e8b",
   "metadata": {},
   "outputs": [],
   "source": [
    "import calendar"
   ]
  },
  {
   "cell_type": "code",
   "execution_count": 11,
   "id": "c48c51a9",
   "metadata": {},
   "outputs": [
    {
     "name": "stdout",
     "output_type": "stream",
     "text": [
      "   February 2012\n",
      "Mo Tu We Th Fr Sa Su\n",
      "       1  2  3  4  5\n",
      " 6  7  8  9 10 11 12\n",
      "13 14 15 16 17 18 19\n",
      "20 21 22 23 24 25 26\n",
      "27 28 29\n",
      "\n"
     ]
    }
   ],
   "source": [
    "print(calendar.month(2012,2))"
   ]
  },
  {
   "cell_type": "markdown",
   "id": "50e85a67",
   "metadata": {},
   "source": [
    "# 4. Write a Python program to solve quadratic equation?"
   ]
  },
  {
   "cell_type": "code",
   "execution_count": 16,
   "id": "9546a52c",
   "metadata": {},
   "outputs": [],
   "source": [
    "import math"
   ]
  },
  {
   "cell_type": "code",
   "execution_count": 17,
   "id": "28c523f6",
   "metadata": {},
   "outputs": [
    {
     "data": {
      "text/plain": [
       "2.0"
      ]
     },
     "execution_count": 17,
     "metadata": {},
     "output_type": "execute_result"
    }
   ],
   "source": [
    "math.sqrt(4)"
   ]
  },
  {
   "cell_type": "code",
   "execution_count": null,
   "id": "6dd06445",
   "metadata": {},
   "outputs": [],
   "source": [
    "# basic quadratic eqn looks like ax**2 + bx +c =0"
   ]
  },
  {
   "cell_type": "code",
   "execution_count": 19,
   "id": "5620df4d",
   "metadata": {},
   "outputs": [
    {
     "name": "stdout",
     "output_type": "stream",
     "text": [
      "enter the value of a:1\n",
      "enter the value of b:-4\n",
      "enter the value of c:4\n",
      "fir root is : 2.0 2.0\n"
     ]
    }
   ],
   "source": [
    "a=int(input('enter the value of a:'))\n",
    "b=int(input('enter the value of b:'))\n",
    "c=int(input('enter the value of c:'))\n",
    "d= b**2 -(4*a*c)\n",
    "print(' roots are :',(-b+math.sqrt(d))/(2*a),(-b-math.sqrt(d))/(2*a))"
   ]
  },
  {
   "cell_type": "markdown",
   "id": "545801e2",
   "metadata": {},
   "source": [
    "# 5. Write a Python program to swap two variables without temp variable?"
   ]
  },
  {
   "cell_type": "code",
   "execution_count": 1,
   "id": "865e9594",
   "metadata": {},
   "outputs": [],
   "source": [
    "a=98\n",
    "b=43\n"
   ]
  },
  {
   "cell_type": "code",
   "execution_count": 2,
   "id": "7bd25d00",
   "metadata": {},
   "outputs": [],
   "source": [
    "a,b=b,a"
   ]
  },
  {
   "cell_type": "code",
   "execution_count": 3,
   "id": "f3013afb",
   "metadata": {},
   "outputs": [
    {
     "data": {
      "text/plain": [
       "43"
      ]
     },
     "execution_count": 3,
     "metadata": {},
     "output_type": "execute_result"
    }
   ],
   "source": [
    "a"
   ]
  },
  {
   "cell_type": "code",
   "execution_count": 4,
   "id": "3e57e4c0",
   "metadata": {},
   "outputs": [
    {
     "data": {
      "text/plain": [
       "98"
      ]
     },
     "execution_count": 4,
     "metadata": {},
     "output_type": "execute_result"
    }
   ],
   "source": [
    "b"
   ]
  },
  {
   "cell_type": "code",
   "execution_count": null,
   "id": "7fe7bfa9",
   "metadata": {},
   "outputs": [],
   "source": []
  }
 ],
 "metadata": {
  "kernelspec": {
   "display_name": "Python 3 (ipykernel)",
   "language": "python",
   "name": "python3"
  },
  "language_info": {
   "codemirror_mode": {
    "name": "ipython",
    "version": 3
   },
   "file_extension": ".py",
   "mimetype": "text/x-python",
   "name": "python",
   "nbconvert_exporter": "python",
   "pygments_lexer": "ipython3",
   "version": "3.9.7"
  }
 },
 "nbformat": 4,
 "nbformat_minor": 5
}
