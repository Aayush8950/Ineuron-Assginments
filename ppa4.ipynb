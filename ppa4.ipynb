{
 "cells": [
  {
   "cell_type": "markdown",
   "id": "1b8ddecf",
   "metadata": {},
   "source": [
    "# 1. Write a Python Program to Find the Factorial of a Number?"
   ]
  },
  {
   "cell_type": "code",
   "execution_count": 34,
   "id": "86446b07",
   "metadata": {},
   "outputs": [],
   "source": [
    "def fac(n):\n",
    "    f=1\n",
    "    for i in range(n):\n",
    "        f=f*(i+1)\n",
    "    return f"
   ]
  },
  {
   "cell_type": "code",
   "execution_count": 35,
   "id": "c1074ce3",
   "metadata": {},
   "outputs": [
    {
     "data": {
      "text/plain": [
       "120"
      ]
     },
     "execution_count": 35,
     "metadata": {},
     "output_type": "execute_result"
    }
   ],
   "source": [
    "fac(5)"
   ]
  },
  {
   "cell_type": "markdown",
   "id": "d6ae849a",
   "metadata": {},
   "source": [
    "# 2. Write a Python Program to Display the multiplication Table?"
   ]
  },
  {
   "cell_type": "code",
   "execution_count": null,
   "id": "afdb1884",
   "metadata": {},
   "outputs": [],
   "source": []
  },
  {
   "cell_type": "markdown",
   "id": "e65f96c2",
   "metadata": {},
   "source": [
    "# 3. Write a Python Program to Print the Fibonacci sequence?"
   ]
  },
  {
   "cell_type": "code",
   "execution_count": 37,
   "id": "10980523",
   "metadata": {},
   "outputs": [
    {
     "name": "stdout",
     "output_type": "stream",
     "text": [
      "enter the first int:  5\n",
      "enter the second int:  7\n",
      "enter the no. of terms you want in output:  10\n",
      "12\n",
      "19\n",
      "31\n",
      "50\n",
      "81\n",
      "131\n",
      "212\n",
      "343\n",
      "555\n",
      "898\n"
     ]
    }
   ],
   "source": [
    "def f():\n",
    "    a = int(input(\"enter the first int:  \"))\n",
    "    b = int(input(\"enter the second int:  \"))\n",
    "    c = int(input(\"enter the no. of terms you want in output:  \"))\n",
    "    n = 0\n",
    "    while c > n:\n",
    "        q = a + b\n",
    "        print(q)\n",
    "        a =  b\n",
    "        b =  q\n",
    "        n = n + 1\n",
    "f()\n"
   ]
  },
  {
   "cell_type": "markdown",
   "id": "480de9f9",
   "metadata": {},
   "source": [
    "# 4. Write a Python Program to Check Armstrong Number?"
   ]
  },
  {
   "cell_type": "code",
   "execution_count": 32,
   "id": "db938e03",
   "metadata": {},
   "outputs": [],
   "source": [
    "def amstrong():\n",
    "    a=input(\"enter the no.\")\n",
    "    c=0\n",
    "    for i in a:\n",
    "        b=int(i)\n",
    "        c+=b**3\n",
    "    \n",
    "    if c==int(a):\n",
    "        print(\"no is amstrong\")\n",
    "    else:\n",
    "        print(\"no\")\n",
    "    "
   ]
  },
  {
   "cell_type": "code",
   "execution_count": 14,
   "id": "7258644f",
   "metadata": {},
   "outputs": [
    {
     "name": "stdout",
     "output_type": "stream",
     "text": [
      "enter the no.370\n",
      "no is amstrong\n"
     ]
    }
   ],
   "source": [
    "amstrong()"
   ]
  },
  {
   "cell_type": "code",
   "execution_count": 27,
   "id": "250bfd01",
   "metadata": {},
   "outputs": [
    {
     "name": "stdout",
     "output_type": "stream",
     "text": [
      "enter the no.1\n",
      "no is amstrong\n"
     ]
    }
   ],
   "source": [
    "amstrong()"
   ]
  },
  {
   "cell_type": "code",
   "execution_count": null,
   "id": "b2abdae7",
   "metadata": {},
   "outputs": [],
   "source": []
  },
  {
   "cell_type": "markdown",
   "id": "4f305b61",
   "metadata": {},
   "source": [
    "# 5. Write a Python Program to Find Armstrong Number in an Interval?"
   ]
  },
  {
   "cell_type": "code",
   "execution_count": 33,
   "id": "8ab340ed",
   "metadata": {},
   "outputs": [
    {
     "name": "stdout",
     "output_type": "stream",
     "text": [
      "153\n",
      "370\n",
      "371\n",
      "407\n",
      "1634\n"
     ]
    }
   ],
   "source": [
    "# Program to check Armstrong numbers in a certain interval\n",
    "\n",
    "lower = 100\n",
    "upper = 2000\n",
    "\n",
    "for num in range(lower, upper + 1):\n",
    "\n",
    "   # order of number\n",
    "   order = len(str(num))\n",
    "    \n",
    "   # initialize sum\n",
    "   sum = 0\n",
    "\n",
    "   temp = num\n",
    "   while temp > 0:\n",
    "       digit = temp % 10\n",
    "       sum += digit ** order\n",
    "       temp //= 10\n",
    "\n",
    "   if num == sum:\n",
    "       print(num)\n"
   ]
  },
  {
   "cell_type": "markdown",
   "id": "4b08422a",
   "metadata": {},
   "source": [
    "# 6. Write a Python Program to Find the Sum of Natural Numbers?"
   ]
  },
  {
   "cell_type": "code",
   "execution_count": 29,
   "id": "f1c2d4c6",
   "metadata": {},
   "outputs": [],
   "source": [
    "def nsum():\n",
    "    a=int(input(\"enter the terms upto which you want to find sum:  \"))\n",
    "    sumn=(a)*(a+1)/2\n",
    "    return sumn"
   ]
  },
  {
   "cell_type": "code",
   "execution_count": 30,
   "id": "3592bcab",
   "metadata": {},
   "outputs": [
    {
     "name": "stdout",
     "output_type": "stream",
     "text": [
      "enter the terms upto which you want to find sum:  10\n"
     ]
    },
    {
     "data": {
      "text/plain": [
       "55.0"
      ]
     },
     "execution_count": 30,
     "metadata": {},
     "output_type": "execute_result"
    }
   ],
   "source": [
    "nsum()"
   ]
  },
  {
   "cell_type": "code",
   "execution_count": null,
   "id": "13fe88ff",
   "metadata": {},
   "outputs": [],
   "source": []
  },
  {
   "cell_type": "code",
   "execution_count": null,
   "id": "29a8b775",
   "metadata": {},
   "outputs": [],
   "source": []
  },
  {
   "cell_type": "code",
   "execution_count": null,
   "id": "57cb319a",
   "metadata": {},
   "outputs": [],
   "source": []
  },
  {
   "cell_type": "code",
   "execution_count": null,
   "id": "a96139ef",
   "metadata": {},
   "outputs": [],
   "source": []
  }
 ],
 "metadata": {
  "kernelspec": {
   "display_name": "Python 3 (ipykernel)",
   "language": "python",
   "name": "python3"
  },
  "language_info": {
   "codemirror_mode": {
    "name": "ipython",
    "version": 3
   },
   "file_extension": ".py",
   "mimetype": "text/x-python",
   "name": "python",
   "nbconvert_exporter": "python",
   "pygments_lexer": "ipython3",
   "version": "3.9.7"
  }
 },
 "nbformat": 4,
 "nbformat_minor": 5
}
