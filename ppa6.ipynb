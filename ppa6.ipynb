{
 "cells": [
  {
   "cell_type": "markdown",
   "id": "b9ce0dd9",
   "metadata": {},
   "source": [
    "# 1. Write a Python Program to Display Fibonacci Sequence Using Recursion?"
   ]
  },
  {
   "cell_type": "code",
   "execution_count": 12,
   "id": "27213b5c",
   "metadata": {},
   "outputs": [],
   "source": [
    "def fibo():\n",
    "    q=int(input(\"how many no. you want in fibonaci sequences\"))\n",
    "    n=0\n",
    "    a=1\n",
    "    b=2\n",
    "    while n<q:\n",
    "        c=b+a\n",
    "        print(c)\n",
    "        \n",
    "        a,b=b,c\n",
    "        n=n+1\n",
    "    \n",
    "        "
   ]
  },
  {
   "cell_type": "code",
   "execution_count": 19,
   "id": "169160e0",
   "metadata": {},
   "outputs": [
    {
     "name": "stdout",
     "output_type": "stream",
     "text": [
      "how many no. you want in fibonaci sequences5\n",
      "3\n",
      "5\n",
      "8\n",
      "13\n",
      "21\n"
     ]
    }
   ],
   "source": [
    "fibo()"
   ]
  },
  {
   "cell_type": "markdown",
   "id": "b8f6ab4e",
   "metadata": {},
   "source": [
    "# 2. Write a Python Program to Find Factorial of Number Using Recursion?"
   ]
  },
  {
   "cell_type": "code",
   "execution_count": 31,
   "id": "7e48cb49",
   "metadata": {},
   "outputs": [],
   "source": [
    "def factorial():\n",
    "    a=int(input('for which no. you want to find a factorial just enter:'))\n",
    "    if a>0:\n",
    "        b=1\n",
    "        c=1\n",
    "        for i in range(1,a+1):\n",
    "            c*=i\n",
    "    return c\n",
    "    "
   ]
  },
  {
   "cell_type": "code",
   "execution_count": 33,
   "id": "429e79b5",
   "metadata": {},
   "outputs": [
    {
     "name": "stdout",
     "output_type": "stream",
     "text": [
      "for which no. you want to find a factorial just enter:3\n"
     ]
    },
    {
     "data": {
      "text/plain": [
       "6"
      ]
     },
     "execution_count": 33,
     "metadata": {},
     "output_type": "execute_result"
    }
   ],
   "source": [
    "factorial()"
   ]
  },
  {
   "cell_type": "markdown",
   "id": "8101f6b9",
   "metadata": {},
   "source": [
    "# 3. Write a Python Program to calculate your Body Mass Index?"
   ]
  },
  {
   "cell_type": "code",
   "execution_count": 7,
   "id": "60672309",
   "metadata": {},
   "outputs": [],
   "source": [
    "def bmi():\n",
    "    bg=int(input(\"enter your body weight in kg:\"))\n",
    "    h=int(input(\"enter your height in metres:\"))\n",
    "    bodymi=bg/h**2\n",
    "    return bodymi "
   ]
  },
  {
   "cell_type": "code",
   "execution_count": 9,
   "id": "2959ef8c",
   "metadata": {},
   "outputs": [
    {
     "name": "stdout",
     "output_type": "stream",
     "text": [
      "enter your body weight in kg:60\n",
      "enter your height in metres:2\n"
     ]
    },
    {
     "data": {
      "text/plain": [
       "15.0"
      ]
     },
     "execution_count": 9,
     "metadata": {},
     "output_type": "execute_result"
    }
   ],
   "source": [
    "bmi()"
   ]
  },
  {
   "cell_type": "markdown",
   "id": "9bf2fa56",
   "metadata": {},
   "source": [
    "# 4. Write a Python Program to calculate the natural logarithm of any number? "
   ]
  },
  {
   "cell_type": "code",
   "execution_count": 17,
   "id": "b7979a3b",
   "metadata": {},
   "outputs": [],
   "source": [
    "def log():\n",
    "    a=int(input('enter the no. for which you need to find a log:'))\n",
    "    b=math.log(a)\n",
    "    return b"
   ]
  },
  {
   "cell_type": "code",
   "execution_count": 18,
   "id": "6a501ea8",
   "metadata": {},
   "outputs": [
    {
     "name": "stdout",
     "output_type": "stream",
     "text": [
      "enter the no. for which you need to find a log:45\n"
     ]
    },
    {
     "data": {
      "text/plain": [
       "3.8066624897703196"
      ]
     },
     "execution_count": 18,
     "metadata": {},
     "output_type": "execute_result"
    }
   ],
   "source": [
    "log()"
   ]
  },
  {
   "cell_type": "markdown",
   "id": "71306739",
   "metadata": {},
   "source": [
    "# 5. Write a Python Program for cube sum of first n natural numbers?"
   ]
  },
  {
   "cell_type": "code",
   "execution_count": 1,
   "id": "3c51adf8",
   "metadata": {},
   "outputs": [],
   "source": [
    "\n",
    "def cube_sum(n):\n",
    "    cm=((n)*(n+1)/2)**2\n",
    "    return cm\n"
   ]
  },
  {
   "cell_type": "code",
   "execution_count": 2,
   "id": "6046accd",
   "metadata": {},
   "outputs": [
    {
     "data": {
      "text/plain": [
       "36.0"
      ]
     },
     "execution_count": 2,
     "metadata": {},
     "output_type": "execute_result"
    }
   ],
   "source": [
    "cube_sum(3)"
   ]
  },
  {
   "cell_type": "code",
   "execution_count": null,
   "id": "679556c4",
   "metadata": {},
   "outputs": [],
   "source": []
  }
 ],
 "metadata": {
  "kernelspec": {
   "display_name": "Python 3 (ipykernel)",
   "language": "python",
   "name": "python3"
  },
  "language_info": {
   "codemirror_mode": {
    "name": "ipython",
    "version": 3
   },
   "file_extension": ".py",
   "mimetype": "text/x-python",
   "name": "python",
   "nbconvert_exporter": "python",
   "pygments_lexer": "ipython3",
   "version": "3.9.7"
  }
 },
 "nbformat": 4,
 "nbformat_minor": 5
}
