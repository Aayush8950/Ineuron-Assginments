{
 "cells": [
  {
   "cell_type": "markdown",
   "id": "3935ddb9",
   "metadata": {},
   "source": [
    "# What are escape characters, and how do you use them?"
   ]
  },
  {
   "cell_type": "code",
   "execution_count": null,
   "id": "af3ddac7",
   "metadata": {},
   "outputs": [],
   "source": [
    "escape characters are special char which are used to write exceptional thng within the code for e.g. \n",
    "/n   to enter in new line\n",
    "/'a/'   to enter a ' ' comma word in a str"
   ]
  },
  {
   "cell_type": "code",
   "execution_count": 2,
   "id": "8081af7d",
   "metadata": {},
   "outputs": [
    {
     "ename": "SyntaxError",
     "evalue": "invalid syntax (Temp/ipykernel_8804/3804443677.py, line 1)",
     "output_type": "error",
     "traceback": [
      "\u001b[1;36m  File \u001b[1;32m\"C:\\Users\\AAYUSH\\AppData\\Local\\Temp/ipykernel_8804/3804443677.py\"\u001b[1;36m, line \u001b[1;32m1\u001b[0m\n\u001b[1;33m    print(\"hlo there it a \"nuclear\" weapon\")\u001b[0m\n\u001b[1;37m                           ^\u001b[0m\n\u001b[1;31mSyntaxError\u001b[0m\u001b[1;31m:\u001b[0m invalid syntax\n"
     ]
    }
   ],
   "source": [
    "print(\"hlo there it a \"nuclear\" weapon\")"
   ]
  },
  {
   "cell_type": "code",
   "execution_count": null,
   "id": "39f0ce5e",
   "metadata": {},
   "outputs": [],
   "source": [
    "we get error here to avoid this we use escape characters"
   ]
  },
  {
   "cell_type": "code",
   "execution_count": 7,
   "id": "055ca173",
   "metadata": {},
   "outputs": [
    {
     "name": "stdout",
     "output_type": "stream",
     "text": [
      "hlo there it a \"nuclear\" weapon\n"
     ]
    }
   ],
   "source": [
    "print(\"hlo there it a \\\"nuclear\\\" weapon\")"
   ]
  },
  {
   "cell_type": "code",
   "execution_count": null,
   "id": "c4d74ea2",
   "metadata": {},
   "outputs": [],
   "source": [
    "now its working fyn"
   ]
  },
  {
   "cell_type": "markdown",
   "id": "97b62244",
   "metadata": {},
   "source": [
    "# What do the escape characters n and t stand for?"
   ]
  },
  {
   "cell_type": "code",
   "execution_count": null,
   "id": "57c50280",
   "metadata": {},
   "outputs": [],
   "source": [
    "n stand for new line\n",
    "t stands for tab\n"
   ]
  },
  {
   "cell_type": "code",
   "execution_count": 9,
   "id": "868652dd",
   "metadata": {},
   "outputs": [
    {
     "name": "stdout",
     "output_type": "stream",
     "text": [
      "hlo there my name is \n",
      " aayush\n"
     ]
    }
   ],
   "source": [
    "print(\"hlo there my name is \\n aayush\")     #a new line is formed in console"
   ]
  },
  {
   "cell_type": "code",
   "execution_count": 10,
   "id": "8f3dc3e0",
   "metadata": {},
   "outputs": [
    {
     "name": "stdout",
     "output_type": "stream",
     "text": [
      "hlo there my name is \t aayush\n"
     ]
    }
   ],
   "source": [
    "print(\"hlo there my name is \\t aayush\")    # a tab is inserted"
   ]
  },
  {
   "cell_type": "markdown",
   "id": "9d1b7d31",
   "metadata": {},
   "source": [
    "# What is the way to include backslash characters in a string?"
   ]
  },
  {
   "cell_type": "code",
   "execution_count": null,
   "id": "4fe86980",
   "metadata": {},
   "outputs": [],
   "source": [
    "use double backslash"
   ]
  },
  {
   "cell_type": "code",
   "execution_count": 14,
   "id": "359f6558",
   "metadata": {},
   "outputs": [],
   "source": [
    "a=\"hlo there it a   \\backslash prob\""
   ]
  },
  {
   "cell_type": "code",
   "execution_count": 15,
   "id": "a1be6ad0",
   "metadata": {},
   "outputs": [
    {
     "name": "stdout",
     "output_type": "stream",
     "text": [
      "hlo there it a   \backslash prob\n"
     ]
    }
   ],
   "source": [
    "print(a)"
   ]
  },
  {
   "cell_type": "code",
   "execution_count": null,
   "id": "825acd53",
   "metadata": {},
   "outputs": [],
   "source": [
    "you can see we cannot get desired output"
   ]
  },
  {
   "cell_type": "code",
   "execution_count": null,
   "id": "e0d976ca",
   "metadata": {},
   "outputs": [],
   "source": [
    "soln of problem"
   ]
  },
  {
   "cell_type": "code",
   "execution_count": 16,
   "id": "0e8a4236",
   "metadata": {},
   "outputs": [],
   "source": [
    "b=\"hlo there it a   \\\\backslash   solution\""
   ]
  },
  {
   "cell_type": "code",
   "execution_count": 17,
   "id": "6e399c49",
   "metadata": {},
   "outputs": [
    {
     "name": "stdout",
     "output_type": "stream",
     "text": [
      "hlo there it a   \\backslash   solution\n"
     ]
    }
   ],
   "source": [
    "print(b)"
   ]
  },
  {
   "cell_type": "markdown",
   "id": "be38d004",
   "metadata": {},
   "source": [
    "# The string &quot;Howl&#39;s Moving Castle&quot; is a correct value. Why isn&#39;t the single quote character in the\n",
    "word Howl&#39;s not escaped a problem?"
   ]
  },
  {
   "cell_type": "code",
   "execution_count": 18,
   "id": "b6243156",
   "metadata": {},
   "outputs": [],
   "source": [
    "a=\"Howl's Moving Castle\" "
   ]
  },
  {
   "cell_type": "code",
   "execution_count": 19,
   "id": "4adc402e",
   "metadata": {},
   "outputs": [
    {
     "name": "stdout",
     "output_type": "stream",
     "text": [
      "Howl's Moving Castle\n"
     ]
    }
   ],
   "source": [
    "print(a)"
   ]
  },
  {
   "cell_type": "code",
   "execution_count": null,
   "id": "d04eaefa",
   "metadata": {},
   "outputs": [],
   "source": [
    " if we use ' then python take howl as string and the rest cause error\n",
    " if there is an ' in the middle of a string then use \" both sides and vice versa"
   ]
  },
  {
   "cell_type": "markdown",
   "id": "c253e4c1",
   "metadata": {},
   "source": [
    "# How do you write a string of newlines if you don&#39;t want to use the n character?"
   ]
  },
  {
   "cell_type": "code",
   "execution_count": 38,
   "id": "1ac2ce49",
   "metadata": {},
   "outputs": [
    {
     "name": "stdout",
     "output_type": "stream",
     "text": [
      "hlo thre 1st line\n",
      "2nd line\n",
      "3rd one\n"
     ]
    }
   ],
   "source": [
    "print(\"\"\"hlo thre 1st line\n",
    "2nd line\n",
    "3rd one\"\"\")\n",
    "\n",
    "    "
   ]
  },
  {
   "cell_type": "markdown",
   "id": "928877c6",
   "metadata": {},
   "source": [
    "# What are the values of the given expressions?\n",
    "&#39;Hello, world!&#39;[1]\n",
    "&#39;Hello, world!&#39;[0:5]\n",
    "&#39;Hello, world!&#39;[:5]\n",
    "&#39;Hello, world!&#39;[3:]"
   ]
  },
  {
   "cell_type": "code",
   "execution_count": 39,
   "id": "088222e5",
   "metadata": {},
   "outputs": [
    {
     "data": {
      "text/plain": [
       "'e'"
      ]
     },
     "execution_count": 39,
     "metadata": {},
     "output_type": "execute_result"
    }
   ],
   "source": [
    "'Hello, world!'[1]"
   ]
  },
  {
   "cell_type": "code",
   "execution_count": 40,
   "id": "525e73d0",
   "metadata": {},
   "outputs": [
    {
     "data": {
      "text/plain": [
       "'Hello'"
      ]
     },
     "execution_count": 40,
     "metadata": {},
     "output_type": "execute_result"
    }
   ],
   "source": [
    "'Hello, world!'[0:5]"
   ]
  },
  {
   "cell_type": "code",
   "execution_count": 41,
   "id": "2c2b0481",
   "metadata": {},
   "outputs": [
    {
     "data": {
      "text/plain": [
       "'Hello'"
      ]
     },
     "execution_count": 41,
     "metadata": {},
     "output_type": "execute_result"
    }
   ],
   "source": [
    "'Hello, world!'[:5]"
   ]
  },
  {
   "cell_type": "code",
   "execution_count": 42,
   "id": "c296e243",
   "metadata": {},
   "outputs": [
    {
     "data": {
      "text/plain": [
       "'lo, world!'"
      ]
     },
     "execution_count": 42,
     "metadata": {},
     "output_type": "execute_result"
    }
   ],
   "source": [
    " 'Hello, world!'[3:]"
   ]
  },
  {
   "cell_type": "markdown",
   "id": "a239af97",
   "metadata": {},
   "source": [
    "# 7. What are the values of the following expressions?\n",
    "&#39;Hello&#39;.upper()\n",
    "&#39;Hello&#39;.upper().isupper()\n",
    "&#39;Hello&#39;.upper().lower()"
   ]
  },
  {
   "cell_type": "code",
   "execution_count": 43,
   "id": "ae256830",
   "metadata": {},
   "outputs": [
    {
     "data": {
      "text/plain": [
       "'HELLO'"
      ]
     },
     "execution_count": 43,
     "metadata": {},
     "output_type": "execute_result"
    }
   ],
   "source": [
    "'Hello'.upper()"
   ]
  },
  {
   "cell_type": "code",
   "execution_count": 45,
   "id": "103da78e",
   "metadata": {},
   "outputs": [
    {
     "data": {
      "text/plain": [
       "True"
      ]
     },
     "execution_count": 45,
     "metadata": {},
     "output_type": "execute_result"
    }
   ],
   "source": [
    "'Hello'.upper().isupper()  #code terminology first it is making t upper and then checking upper"
   ]
  },
  {
   "cell_type": "code",
   "execution_count": 47,
   "id": "56142a32",
   "metadata": {},
   "outputs": [],
   "source": [
    "a=\"AAAA\"  #extra part"
   ]
  },
  {
   "cell_type": "code",
   "execution_count": 48,
   "id": "063e4769",
   "metadata": {},
   "outputs": [
    {
     "data": {
      "text/plain": [
       "True"
      ]
     },
     "execution_count": 48,
     "metadata": {},
     "output_type": "execute_result"
    }
   ],
   "source": [
    "a.isupper()    #extra part"
   ]
  },
  {
   "cell_type": "code",
   "execution_count": 49,
   "id": "a37c6c7a",
   "metadata": {},
   "outputs": [
    {
     "data": {
      "text/plain": [
       "'hello'"
      ]
     },
     "execution_count": 49,
     "metadata": {},
     "output_type": "execute_result"
    }
   ],
   "source": [
    "'Hello'.upper().lower()"
   ]
  },
  {
   "cell_type": "markdown",
   "id": "01311dd1",
   "metadata": {},
   "source": [
    "# 8. What are the values of the following expressions?\n",
    "&#39;Remember, remember, the fifth of July.&#39;.split()\n",
    "&#39;-&#39;.join(&#39;There can only one.&#39;.split())"
   ]
  },
  {
   "cell_type": "code",
   "execution_count": 51,
   "id": "722b33dd",
   "metadata": {},
   "outputs": [
    {
     "data": {
      "text/plain": [
       "['Remember,', 'remember,', 'the', 'fifth', 'of', 'July.']"
      ]
     },
     "execution_count": 51,
     "metadata": {},
     "output_type": "execute_result"
    }
   ],
   "source": [
    "'Remember, remember, the fifth of July.'.split()"
   ]
  },
  {
   "cell_type": "code",
   "execution_count": 52,
   "id": "41f074a0",
   "metadata": {},
   "outputs": [
    {
     "data": {
      "text/plain": [
       "'There-can-only-one.'"
      ]
     },
     "execution_count": 52,
     "metadata": {},
     "output_type": "execute_result"
    }
   ],
   "source": [
    " '-'.join('There can only one.'.split())"
   ]
  },
  {
   "cell_type": "markdown",
   "id": "9ddb1722",
   "metadata": {},
   "source": [
    "# 9. What are the methods for right-justifying, left-justifying, and centering a string?"
   ]
  },
  {
   "cell_type": "code",
   "execution_count": 89,
   "id": "24e4c36e",
   "metadata": {},
   "outputs": [
    {
     "data": {
      "text/plain": [
       "'****aayush is a boy****'"
      ]
     },
     "execution_count": 89,
     "metadata": {},
     "output_type": "execute_result"
    }
   ],
   "source": [
    "\"aayush is a boy\".center(23,\"*\")"
   ]
  },
  {
   "cell_type": "code",
   "execution_count": 98,
   "id": "ed0eabbf",
   "metadata": {},
   "outputs": [
    {
     "data": {
      "text/plain": [
       "' aayush is a boy******'"
      ]
     },
     "execution_count": 98,
     "metadata": {},
     "output_type": "execute_result"
    }
   ],
   "source": [
    "\" aayush is a boy\".ljust(22,\"*\")"
   ]
  },
  {
   "cell_type": "code",
   "execution_count": 96,
   "id": "ee9afecb",
   "metadata": {},
   "outputs": [
    {
     "data": {
      "text/plain": [
       "'*******aayush is a boy'"
      ]
     },
     "execution_count": 96,
     "metadata": {},
     "output_type": "execute_result"
    }
   ],
   "source": [
    "\"aayush is a boy\".rjust(22,\"*\")"
   ]
  },
  {
   "cell_type": "markdown",
   "id": "925942ed",
   "metadata": {},
   "source": [
    "# 10. What is the best way to remove whitespace characters from the start or end?"
   ]
  },
  {
   "cell_type": "code",
   "execution_count": 68,
   "id": "d0c79186",
   "metadata": {},
   "outputs": [
    {
     "data": {
      "text/plain": [
       "'     aayush       '"
      ]
     },
     "execution_count": 68,
     "metadata": {},
     "output_type": "execute_result"
    }
   ],
   "source": [
    "\"     aayush       \"      #problem"
   ]
  },
  {
   "cell_type": "code",
   "execution_count": 69,
   "id": "9bcbaa89",
   "metadata": {},
   "outputs": [
    {
     "data": {
      "text/plain": [
       "'aayush'"
      ]
     },
     "execution_count": 69,
     "metadata": {},
     "output_type": "execute_result"
    }
   ],
   "source": [
    "\"     aayush       \".rstrip().lstrip()       #solution"
   ]
  },
  {
   "cell_type": "code",
   "execution_count": null,
   "id": "eaad6cff",
   "metadata": {},
   "outputs": [],
   "source": []
  }
 ],
 "metadata": {
  "kernelspec": {
   "display_name": "Python 3 (ipykernel)",
   "language": "python",
   "name": "python3"
  },
  "language_info": {
   "codemirror_mode": {
    "name": "ipython",
    "version": 3
   },
   "file_extension": ".py",
   "mimetype": "text/x-python",
   "name": "python",
   "nbconvert_exporter": "python",
   "pygments_lexer": "ipython3",
   "version": "3.9.7"
  }
 },
 "nbformat": 4,
 "nbformat_minor": 5
}
