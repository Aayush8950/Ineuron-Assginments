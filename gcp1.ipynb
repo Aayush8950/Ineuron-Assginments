{
 "cells": [
  {
   "cell_type": "markdown",
   "id": "a5d8e898",
   "metadata": {},
   "source": [
    "# 1) What is the GCP project quota? If necessary, how GCP quota can be increased?\n"
   ]
  },
  {
   "cell_type": "code",
   "execution_count": 1,
   "id": "34c699f8",
   "metadata": {},
   "outputs": [
    {
     "data": {
      "text/plain": [
       "'project quota________\\nproject quotas protect Google cloud users from unforeseen spikes in usage\\nbut  as our usage of gcp increases, you can request an increase in your project quota \\n\\nhow to increase this_____\\nby contacting with the team no. google will be providing at the looging screen support team mobiel no.'"
      ]
     },
     "execution_count": 1,
     "metadata": {},
     "output_type": "execute_result"
    }
   ],
   "source": [
    "\"\"\"project quota________\n",
    "project quotas protect Google cloud users from unforeseen spikes in usage\n",
    "but  as our usage of gcp increases, you can request an increase in your project quota \n",
    "\n",
    "how to increase this_____\n",
    "by contacting with the team no. google will be providing at the looging screen support team mobiel no.\"\"\""
   ]
  },
  {
   "cell_type": "markdown",
   "id": "8db5c247",
   "metadata": {},
   "source": [
    "# 2) What is the definition of a virtual machine? Virtual machine types are offered in GCP. How to create a virtual computer in Google Cloud Platform.\n"
   ]
  },
  {
   "cell_type": "code",
   "execution_count": 2,
   "id": "a81ddd28",
   "metadata": {},
   "outputs": [
    {
     "data": {
      "text/plain": [
       "'DEf_____\\nA virtual machine (VM) is a digital version of a physical computer\\nVirtual machine software can run programs and operating systems, store data, connect to networks\\nand do other computing functions, and requires maintenance such as updates and system monitoring'"
      ]
     },
     "execution_count": 2,
     "metadata": {},
     "output_type": "execute_result"
    }
   ],
   "source": [
    "\"\"\"DEf_____\n",
    "A virtual machine (VM) is a digital version of a physical computer\n",
    "Virtual machine software can run programs and operating systems, store data, connect to networks\n",
    "and do other computing functions, and requires maintenance such as updates and system monitoring\"\"\""
   ]
  },
  {
   "cell_type": "code",
   "execution_count": 3,
   "id": "1deb4186",
   "metadata": {},
   "outputs": [
    {
     "data": {
      "text/plain": [
       "'virtual machine types____\\nE2 standard machine types. \\nE2 high-memory machine types. \\nE2 high-CPU machine types. \\nE2 custom vCPUs and memory. \\nN2 standard machine types. \\nN2 high-memory machine types. \\nN2 high-CPU machine types. \\nN2 custom vCPUs and memory.'"
      ]
     },
     "execution_count": 3,
     "metadata": {},
     "output_type": "execute_result"
    }
   ],
   "source": [
    "\"\"\"virtual machine types____\n",
    "E2 standard machine types. \n",
    "E2 high-memory machine types. \n",
    "E2 high-CPU machine types. \n",
    "E2 custom vCPUs and memory. \n",
    "N2 standard machine types. \n",
    "N2 high-memory machine types. \n",
    "N2 high-CPU machine types. \n",
    "N2 custom vCPUs and memory.\"\"\""
   ]
  },
  {
   "cell_type": "code",
   "execution_count": 4,
   "id": "aa93e365",
   "metadata": {},
   "outputs": [
    {
     "data": {
      "text/plain": [
       "'How do I create a virtual machine in my Google Cloud_____________\\nIn the Google Cloud Console, go to the VM instances page. \\nSelect your project and click Continue\\nClick Create instance.\\nSpecify a Name for your VM. \\n'"
      ]
     },
     "execution_count": 4,
     "metadata": {},
     "output_type": "execute_result"
    }
   ],
   "source": [
    "\"\"\"How do I create a virtual machine in my Google Cloud_____________\n",
    "In the Google Cloud Console, go to the VM instances page. \n",
    "Select your project and click Continue\n",
    "Click Create instance.\n",
    "Specify a Name for your VM. \n",
    "\"\"\""
   ]
  },
  {
   "cell_type": "markdown",
   "id": "499d0493",
   "metadata": {},
   "source": [
    "# 3)What is Google Big Query, and how does it work? Replicate certain instances to demonstrate a use case.\n",
    "\n"
   ]
  },
  {
   "cell_type": "code",
   "execution_count": 6,
   "id": "afad12e1",
   "metadata": {},
   "outputs": [
    {
     "data": {
      "text/plain": [
       "'Google Big Query____\\nBigQuery is a fully managed enterprise data warehouse that helps\\nyou manage and analyze your data with built-in features \\nlike machine learning, geospatial analysis, and business intelligence'"
      ]
     },
     "execution_count": 6,
     "metadata": {},
     "output_type": "execute_result"
    }
   ],
   "source": [
    "\"\"\"Google Big Query____\n",
    "BigQuery is a fully managed enterprise data warehouse that helps\n",
    "you manage and analyze your data with built-in features \n",
    "like machine learning, geospatial analysis, and business intelligence\"\"\""
   ]
  },
  {
   "cell_type": "code",
   "execution_count": 5,
   "id": "0554bb9d",
   "metadata": {},
   "outputs": [
    {
     "data": {
      "text/plain": [
       "'Google Big Query working________\\n\\nBigQuery leverages the columnar storage format and compression algorithm\\nto store data in Colossus, optimized for reading large amounts of structured data\\nColossus also handles replication, recovery (when disks crash) and distributed management\\n(so there is no single point of failure)'"
      ]
     },
     "execution_count": 5,
     "metadata": {},
     "output_type": "execute_result"
    }
   ],
   "source": [
    "\"\"\"Google Big Query working________\n",
    "\n",
    "BigQuery leverages the columnar storage format and compression algorithm\n",
    "to store data in Colossus, optimized for reading large amounts of structured data\n",
    "Colossus also handles replication, recovery (when disks crash) and distributed management\n",
    "(so there is no single point of failure)\"\"\""
   ]
  },
  {
   "cell_type": "markdown",
   "id": "5fc6585d",
   "metadata": {},
   "source": [
    "# 4)What exactly is the Google Cloud SDK? List the numerous Google cloud SDK installation options.\n",
    "\n"
   ]
  },
  {
   "cell_type": "code",
   "execution_count": 7,
   "id": "8e59a5ca",
   "metadata": {},
   "outputs": [
    {
     "data": {
      "text/plain": [
       "'Google Cloud SDK_______\\nGoogle Cloud SDK (Software Development Kit), in simple terms,\\nis a set of tools that are used to manage applications\\nand resources that are hosted on the Google Cloud Platform\\nIt is composed of the gsutil, gcloud, and bqcommand line tools'"
      ]
     },
     "execution_count": 7,
     "metadata": {},
     "output_type": "execute_result"
    }
   ],
   "source": [
    "\"\"\"Google Cloud SDK_______\n",
    "Google Cloud SDK (Software Development Kit), in simple terms,\n",
    "is a set of tools that are used to manage applications\n",
    "and resources that are hosted on the Google Cloud Platform\n",
    "It is composed of the gsutil, gcloud, and bqcommand line tools\"\"\""
   ]
  },
  {
   "cell_type": "code",
   "execution_count": 8,
   "id": "bd9da974",
   "metadata": {},
   "outputs": [
    {
     "data": {
      "text/plain": [
       "\"installation options________\\nDepending on your setup, you can choose other installation methods:\\nIf you use Snap on your system, you can install Cloud SDK as a snap package.\\nIf you're using an instance on Compute Engine, Cloud SDK is installed by default.\""
      ]
     },
     "execution_count": 8,
     "metadata": {},
     "output_type": "execute_result"
    }
   ],
   "source": [
    " \"\"\"installation options________\n",
    " Depending on your setup, you can choose other installation methods:\n",
    "If you use Snap on your system, you can install Cloud SDK as a snap package.\n",
    "If you're using an instance on Compute Engine, Cloud SDK is installed by default.\"\"\""
   ]
  },
  {
   "cell_type": "markdown",
   "id": "d1ae3d88",
   "metadata": {},
   "source": [
    "# 5)List the many cloud computing deployment models."
   ]
  },
  {
   "cell_type": "code",
   "execution_count": 9,
   "id": "d2542664",
   "metadata": {},
   "outputs": [
    {
     "data": {
      "text/plain": [
       "'Platform_____  (paas)-------> paltform as a service\\n\\npaas is a computing platform that allows the user to create web applications quickly and easily\\nand without worrying about buying and maintaining the software and infrastructure. \\n\\n\\ninfrastr.______________    (iaas)-----------------> infrastructure as a service\\n\\ncan be defined as the use of servers, storage, computing power,network and virtualization \\nto form utility like services for users.\\nIt is a cloud service model that provides hardware resources virtualized in the cloud. \\nIt provides virtual computing resources to the users through resource pool.\\n\\n\\nsoftware__________________________________  (saas)-----> software as a service\\n\\nInstead of installing and maintaining software, you simply access it via the Internet, freeing yourself from complex\\nexample--Salesforce.com provides the CRM (Customer Relation Manager) on a cloud infrastructure \\nto its client and charges them for it, but software is owned by the salesforce company only'"
      ]
     },
     "execution_count": 9,
     "metadata": {},
     "output_type": "execute_result"
    }
   ],
   "source": [
    "\"\"\"Platform_____  (paas)-------> paltform as a service\n",
    "\n",
    "paas is a computing platform that allows the user to create web applications quickly and easily\n",
    "and without worrying about buying and maintaining the software and infrastructure. \n",
    "\n",
    "\n",
    "infrastr.______________    (iaas)-----------------> infrastructure as a service\n",
    "\n",
    "can be defined as the use of servers, storage, computing power,network and virtualization \n",
    "to form utility like services for users.\n",
    "It is a cloud service model that provides hardware resources virtualized in the cloud. \n",
    "It provides virtual computing resources to the users through resource pool.\n",
    "\n",
    "\n",
    "software__________________________________  (saas)-----> software as a service\n",
    "\n",
    "Instead of installing and maintaining software, you simply access it via the Internet, freeing yourself from complex\n",
    "example--Salesforce.com provides the CRM (Customer Relation Manager) on a cloud infrastructure \n",
    "to its client and charges them for it, but software is owned by the salesforce company only\"\"\""
   ]
  },
  {
   "cell_type": "markdown",
   "id": "5daccd7e",
   "metadata": {},
   "source": [
    "# 6)Describe the Google cloud platform's security features"
   ]
  },
  {
   "cell_type": "code",
   "execution_count": 10,
   "id": "8edffa38",
   "metadata": {},
   "outputs": [
    {
     "data": {
      "text/plain": [
       "'Google Cloud Platform (GCP) security fundamentals include having disaster recovery plans\\nhaving high visibility of the environment, monitoring logs of cloud activity\\nusing identity access management (IAM) tools, utilizing automated services, and encrypting data at all times.\\n1: Top-of-the-Line Perimeter Firewall. \\n2: Intrusion Detection Systems with Event Logging. \\n3: Internal Firewalls for Individual Applications, and Databases. \\n4: Data-at-Rest Encryption. \\n5: Tier IV Data Centers with Strong Physical Security.'"
      ]
     },
     "execution_count": 10,
     "metadata": {},
     "output_type": "execute_result"
    }
   ],
   "source": [
    "\"\"\"Google Cloud Platform (GCP) security fundamentals include having disaster recovery plans\n",
    "having high visibility of the environment, monitoring logs of cloud activity\n",
    "using identity access management (IAM) tools, utilizing automated services, and encrypting data at all times.\n",
    "1: Top-of-the-Line Perimeter Firewall. \n",
    "2: Intrusion Detection Systems with Event Logging. \n",
    "3: Internal Firewalls for Individual Applications, and Databases. \n",
    "4: Data-at-Rest Encryption. \n",
    "5: Tier IV Data Centers with Strong Physical Security.\"\"\"\n"
   ]
  },
  {
   "cell_type": "markdown",
   "id": "2a8366af",
   "metadata": {},
   "source": [
    "# 7)What exactly is vertex AI?"
   ]
  },
  {
   "cell_type": "code",
   "execution_count": 11,
   "id": "71018ccd",
   "metadata": {},
   "outputs": [
    {
     "data": {
      "text/plain": [
       "'Vertex AI Workbench is the single environment for data scientists to complete all of their ML work,\\nfrom experimentation, to deployment, to managing and monitoring models. \\nIt is a Jupyter-based fully managed, scalable, enterprise-ready compute infrastructure\\nwith security controls anduser management capabilities'"
      ]
     },
     "execution_count": 11,
     "metadata": {},
     "output_type": "execute_result"
    }
   ],
   "source": [
    "\"\"\"Vertex AI Workbench is the single environment for data scientists to complete all of their ML work,\n",
    "from experimentation, to deployment, to managing and monitoring models. \n",
    "It is a Jupyter-based fully managed, scalable, enterprise-ready compute infrastructure\n",
    "with security controls anduser management capabilities\"\"\""
   ]
  },
  {
   "cell_type": "code",
   "execution_count": null,
   "id": "fed30345",
   "metadata": {},
   "outputs": [],
   "source": []
  }
 ],
 "metadata": {
  "kernelspec": {
   "display_name": "Python 3 (ipykernel)",
   "language": "python",
   "name": "python3"
  },
  "language_info": {
   "codemirror_mode": {
    "name": "ipython",
    "version": 3
   },
   "file_extension": ".py",
   "mimetype": "text/x-python",
   "name": "python",
   "nbconvert_exporter": "python",
   "pygments_lexer": "ipython3",
   "version": "3.9.7"
  }
 },
 "nbformat": 4,
 "nbformat_minor": 5
}
