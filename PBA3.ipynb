{
 "cells": [
  {
   "cell_type": "markdown",
   "id": "9bdd8921",
   "metadata": {},
   "source": [
    "# 1. Why are functions advantageous to have in your programs?"
   ]
  },
  {
   "cell_type": "code",
   "execution_count": 1,
   "id": "f3484728",
   "metadata": {},
   "outputs": [],
   "source": [
    "#by having function in our program we have not to rewrite the same code again and again we have to just call the function"
   ]
  },
  {
   "cell_type": "markdown",
   "id": "297ab0e9",
   "metadata": {},
   "source": [
    "# 2. When does the code in a function run: when it&#39;s specified or when it&#39;s called?"
   ]
  },
  {
   "cell_type": "code",
   "execution_count": 3,
   "id": "b5c48f44",
   "metadata": {},
   "outputs": [],
   "source": [
    "#when its called"
   ]
  },
  {
   "cell_type": "markdown",
   "id": "5a5976c7",
   "metadata": {},
   "source": [
    "# 3. What statement creates a function?"
   ]
  },
  {
   "cell_type": "code",
   "execution_count": 4,
   "id": "3f054e40",
   "metadata": {},
   "outputs": [],
   "source": [
    "# def t1():  \n",
    "\n",
    "\n",
    "# this statement helps us to create a function"
   ]
  },
  {
   "cell_type": "markdown",
   "id": "d44293f2",
   "metadata": {},
   "source": [
    "# 4. What is the difference between a function and a function call?"
   ]
  },
  {
   "cell_type": "markdown",
   "id": "2d359b0c",
   "metadata": {},
   "source": [
    "e.g. of function"
   ]
  },
  {
   "cell_type": "code",
   "execution_count": 10,
   "id": "22fdb9a8",
   "metadata": {},
   "outputs": [],
   "source": [
    "def t1(a,b):\n",
    "    return a*b ,a/b\n",
    "    \n",
    "       "
   ]
  },
  {
   "cell_type": "markdown",
   "id": "fa0bdfdc",
   "metadata": {},
   "source": [
    "e.g. of function calllll"
   ]
  },
  {
   "cell_type": "code",
   "execution_count": 11,
   "id": "fe81afc9",
   "metadata": {},
   "outputs": [
    {
     "data": {
      "text/plain": [
       "(12, 3.0)"
      ]
     },
     "execution_count": 11,
     "metadata": {},
     "output_type": "execute_result"
    }
   ],
   "source": [
    "t1(6,2)"
   ]
  },
  {
   "cell_type": "markdown",
   "id": "4bb18856",
   "metadata": {},
   "source": [
    "# 5. How many global scopes are there in a Python program? How many local scopes?"
   ]
  },
  {
   "cell_type": "markdown",
   "id": "0aff6e0b",
   "metadata": {},
   "source": [
    "# global scopes"
   ]
  },
  {
   "cell_type": "code",
   "execution_count": 12,
   "id": "7ec4f41c",
   "metadata": {},
   "outputs": [],
   "source": [
    "# we can write our own function and libraries in python at global scopes which can be used by anyone"
   ]
  },
  {
   "cell_type": "markdown",
   "id": "20605473",
   "metadata": {},
   "source": [
    "local scope"
   ]
  },
  {
   "cell_type": "code",
   "execution_count": 13,
   "id": "f59adeb5",
   "metadata": {},
   "outputs": [],
   "source": [
    "#generally in local scope we make function for our personal use that is stored in our system"
   ]
  },
  {
   "cell_type": "markdown",
   "id": "dc03ddfc",
   "metadata": {},
   "source": [
    "# 6. What happens to variables in a local scope when the function call returns?"
   ]
  },
  {
   "cell_type": "markdown",
   "id": "caf518c3",
   "metadata": {},
   "source": [
    "e.g."
   ]
  },
  {
   "cell_type": "code",
   "execution_count": 22,
   "id": "393e58a3",
   "metadata": {},
   "outputs": [],
   "source": [
    "a= 10 \n",
    "def t2(a,b):\n",
    "    a=3\n",
    "    return a*b"
   ]
  },
  {
   "cell_type": "code",
   "execution_count": 24,
   "id": "579390f3",
   "metadata": {},
   "outputs": [
    {
     "data": {
      "text/plain": [
       "10"
      ]
     },
     "execution_count": 24,
     "metadata": {},
     "output_type": "execute_result"
    }
   ],
   "source": [
    "a    #here it ruuning 10 because in global it is this "
   ]
  },
  {
   "cell_type": "code",
   "execution_count": 25,
   "id": "056ce4fc",
   "metadata": {},
   "outputs": [
    {
     "data": {
      "text/plain": [
       "6"
      ]
     },
     "execution_count": 25,
     "metadata": {},
     "output_type": "execute_result"
    }
   ],
   "source": [
    "t2(a,2)"
   ]
  },
  {
   "cell_type": "code",
   "execution_count": 21,
   "id": "185dc04d",
   "metadata": {},
   "outputs": [],
   "source": [
    "#here local varibale getting used instead of global varibale whe function call returns"
   ]
  },
  {
   "cell_type": "code",
   "execution_count": 26,
   "id": "1b1eee55",
   "metadata": {},
   "outputs": [],
   "source": [
    "#it discard global when function call return"
   ]
  },
  {
   "cell_type": "markdown",
   "id": "14db884c",
   "metadata": {},
   "source": [
    "# 7. What is the concept of a return value? Is it possible to have a return value in an expression?"
   ]
  },
  {
   "cell_type": "markdown",
   "id": "6c52abcf",
   "metadata": {},
   "source": [
    "#concept"
   ]
  },
  {
   "cell_type": "code",
   "execution_count": 27,
   "id": "4c1c8859",
   "metadata": {},
   "outputs": [],
   "source": [
    "#it helps to maintain data type to original "
   ]
  },
  {
   "cell_type": "code",
   "execution_count": 28,
   "id": "ea7a18ca",
   "metadata": {},
   "outputs": [],
   "source": [
    "#if we use print instead of return we get nonedata type"
   ]
  },
  {
   "cell_type": "code",
   "execution_count": 30,
   "id": "de19907c",
   "metadata": {},
   "outputs": [],
   "source": [
    "#yes it is possible to have a return value in expression for e.g\n",
    "def t3(a,b,c):\n",
    "    return a+b+c"
   ]
  },
  {
   "cell_type": "code",
   "execution_count": 31,
   "id": "e956412d",
   "metadata": {},
   "outputs": [
    {
     "data": {
      "text/plain": [
       "11"
      ]
     },
     "execution_count": 31,
     "metadata": {},
     "output_type": "execute_result"
    }
   ],
   "source": [
    "t3(2,3,6)"
   ]
  },
  {
   "cell_type": "code",
   "execution_count": 32,
   "id": "f9c7b19d",
   "metadata": {},
   "outputs": [],
   "source": [
    "#here we succesfully used return value in arithmetic expression"
   ]
  },
  {
   "cell_type": "markdown",
   "id": "bd316cd6",
   "metadata": {},
   "source": [
    "# 8. If a function does not have a return statement, what is the return value of a call to that function?"
   ]
  },
  {
   "cell_type": "code",
   "execution_count": 1,
   "id": "19080ff9",
   "metadata": {},
   "outputs": [],
   "source": [
    "#then it is none data type "
   ]
  },
  {
   "cell_type": "code",
   "execution_count": 2,
   "id": "13c5f3c9",
   "metadata": {},
   "outputs": [],
   "source": [
    "def a1(a,b):\n",
    "    print(a+b)"
   ]
  },
  {
   "cell_type": "code",
   "execution_count": 4,
   "id": "def3f117",
   "metadata": {},
   "outputs": [
    {
     "name": "stdout",
     "output_type": "stream",
     "text": [
      "7\n"
     ]
    }
   ],
   "source": [
    "b=a1(2,5)"
   ]
  },
  {
   "cell_type": "code",
   "execution_count": 5,
   "id": "20c450dd",
   "metadata": {},
   "outputs": [
    {
     "data": {
      "text/plain": [
       "NoneType"
      ]
     },
     "execution_count": 5,
     "metadata": {},
     "output_type": "execute_result"
    }
   ],
   "source": [
    "type(b)"
   ]
  },
  {
   "cell_type": "markdown",
   "id": "1af57c62",
   "metadata": {},
   "source": [
    "# 9. How do you make a function variable refer to the global variable?"
   ]
  },
  {
   "cell_type": "code",
   "execution_count": 23,
   "id": "a1bf5460",
   "metadata": {},
   "outputs": [],
   "source": [
    "\n",
    "def aayush():\n",
    "    \n",
    "    global b\n",
    "    b=5\n",
    "    return b"
   ]
  },
  {
   "cell_type": "code",
   "execution_count": 24,
   "id": "23f1964c",
   "metadata": {},
   "outputs": [
    {
     "data": {
      "text/plain": [
       "5"
      ]
     },
     "execution_count": 24,
     "metadata": {},
     "output_type": "execute_result"
    }
   ],
   "source": [
    "aayush()"
   ]
  },
  {
   "cell_type": "code",
   "execution_count": 25,
   "id": "a096172b",
   "metadata": {},
   "outputs": [
    {
     "data": {
      "text/plain": [
       "5"
      ]
     },
     "execution_count": 25,
     "metadata": {},
     "output_type": "execute_result"
    }
   ],
   "source": [
    "b    #here i define b outside the function but output is 5"
   ]
  },
  {
   "cell_type": "markdown",
   "id": "ad5637a6",
   "metadata": {},
   "source": [
    "# "
   ]
  },
  {
   "cell_type": "markdown",
   "id": "01066efa",
   "metadata": {},
   "source": [
    "# 10. What is the data type of None?"
   ]
  },
  {
   "cell_type": "markdown",
   "id": "8b84b8bb",
   "metadata": {},
   "source": [
    "#when we use print function in def we get none data type"
   ]
  },
  {
   "cell_type": "code",
   "execution_count": 33,
   "id": "031651f2",
   "metadata": {},
   "outputs": [],
   "source": [
    "# for e.g\n",
    "def t11(a,b):\n",
    "    print (a+b)"
   ]
  },
  {
   "cell_type": "code",
   "execution_count": 36,
   "id": "bdcefa22",
   "metadata": {},
   "outputs": [
    {
     "name": "stdout",
     "output_type": "stream",
     "text": [
      "8\n"
     ]
    }
   ],
   "source": [
    "a=t11(2,6)"
   ]
  },
  {
   "cell_type": "code",
   "execution_count": 37,
   "id": "76bdc718",
   "metadata": {},
   "outputs": [
    {
     "data": {
      "text/plain": [
       "NoneType"
      ]
     },
     "execution_count": 37,
     "metadata": {},
     "output_type": "execute_result"
    }
   ],
   "source": [
    "type(a)"
   ]
  },
  {
   "cell_type": "markdown",
   "id": "8ee55549",
   "metadata": {},
   "source": [
    "# 11. What does the sentence import areallyourpetsnamederic do?"
   ]
  },
  {
   "cell_type": "code",
   "execution_count": 26,
   "id": "dac71ff2",
   "metadata": {},
   "outputs": [],
   "source": [
    "# que is wrong confirmed by support team"
   ]
  },
  {
   "cell_type": "markdown",
   "id": "561568a2",
   "metadata": {},
   "source": [
    "# 12. If you had a bacon() feature in a spam module, what would you call it after importing spam?"
   ]
  },
  {
   "cell_type": "code",
   "execution_count": 28,
   "id": "0060b45c",
   "metadata": {},
   "outputs": [],
   "source": [
    "# nhi aata sir ye question"
   ]
  },
  {
   "cell_type": "code",
   "execution_count": null,
   "id": "44bfd60f",
   "metadata": {},
   "outputs": [],
   "source": []
  },
  {
   "cell_type": "markdown",
   "id": "9e303ddf",
   "metadata": {},
   "source": [
    "# 13. What can you do to save a programme from crashing if it encounters an error?"
   ]
  },
  {
   "cell_type": "code",
   "execution_count": 27,
   "id": "55ef3efc",
   "metadata": {},
   "outputs": [],
   "source": [
    "# we use error handling in logging section of python"
   ]
  },
  {
   "cell_type": "code",
   "execution_count": null,
   "id": "5d31dab4",
   "metadata": {},
   "outputs": [],
   "source": []
  },
  {
   "cell_type": "markdown",
   "id": "04916f6b",
   "metadata": {},
   "source": [
    "# 14. What is the purpose of the try clause? What is the purpose of the except clause?"
   ]
  },
  {
   "cell_type": "code",
   "execution_count": 3,
   "id": "de7cce3b",
   "metadata": {},
   "outputs": [
    {
     "name": "stdout",
     "output_type": "stream",
     "text": [
      "dfghj,\n",
      "please type a str\n"
     ]
    }
   ],
   "source": [
    "try:\n",
    "    a=int(input())\n",
    "    print(a)\n",
    "except:\n",
    "    print(\"please type a str\")"
   ]
  },
  {
   "cell_type": "markdown",
   "id": "05d93c01",
   "metadata": {},
   "source": [
    "# here it is simply show us that if our code is not right then instead of taking error we simply type a message\n",
    "so it is the use case of except"
   ]
  },
  {
   "cell_type": "code",
   "execution_count": 5,
   "id": "4750ad0a",
   "metadata": {},
   "outputs": [],
   "source": [
    "#use case of try"
   ]
  },
  {
   "cell_type": "markdown",
   "id": "5573a283",
   "metadata": {},
   "source": [
    "if our code is right then we simply get the desired output"
   ]
  },
  {
   "cell_type": "code",
   "execution_count": 6,
   "id": "eb17cbdd",
   "metadata": {},
   "outputs": [
    {
     "name": "stdout",
     "output_type": "stream",
     "text": [
      "45\n",
      "45\n"
     ]
    }
   ],
   "source": [
    "try:\n",
    "    a=int(input())\n",
    "    print(a)\n",
    "except:\n",
    "    print(\"please type a str\")"
   ]
  },
  {
   "cell_type": "code",
   "execution_count": null,
   "id": "9a03f24f",
   "metadata": {},
   "outputs": [],
   "source": []
  }
 ],
 "metadata": {
  "kernelspec": {
   "display_name": "Python 3 (ipykernel)",
   "language": "python",
   "name": "python3"
  },
  "language_info": {
   "codemirror_mode": {
    "name": "ipython",
    "version": 3
   },
   "file_extension": ".py",
   "mimetype": "text/x-python",
   "name": "python",
   "nbconvert_exporter": "python",
   "pygments_lexer": "ipython3",
   "version": "3.9.7"
  }
 },
 "nbformat": 4,
 "nbformat_minor": 5
}
