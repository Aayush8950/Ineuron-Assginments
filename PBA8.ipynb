{
 "cells": [
  {
   "cell_type": "markdown",
   "id": "e014085a",
   "metadata": {},
   "source": [
    "# 1.Is the Python Standard Library included with PyInputPlus?"
   ]
  },
  {
   "cell_type": "code",
   "execution_count": null,
   "id": "4600cf6f",
   "metadata": {},
   "outputs": [],
   "source": [
    "As you can see we have to install it first it is not included"
   ]
  },
  {
   "cell_type": "code",
   "execution_count": 2,
   "id": "e0384eac",
   "metadata": {},
   "outputs": [
    {
     "name": "stdout",
     "output_type": "stream",
     "text": [
      "Collecting pyinputplus\n",
      "  Downloading PyInputPlus-0.2.12.tar.gz (20 kB)\n",
      "  Installing build dependencies: started\n",
      "  Installing build dependencies: finished with status 'done'\n",
      "  Getting requirements to build wheel: started\n",
      "  Getting requirements to build wheel: finished with status 'done'\n",
      "    Preparing wheel metadata: started\n",
      "    Preparing wheel metadata: finished with status 'done'\n",
      "Collecting stdiomask>=0.0.3\n",
      "  Downloading stdiomask-0.0.6.tar.gz (3.6 kB)\n",
      "  Installing build dependencies: started\n",
      "  Installing build dependencies: finished with status 'done'\n",
      "  Getting requirements to build wheel: started\n",
      "  Getting requirements to build wheel: finished with status 'done'\n",
      "    Preparing wheel metadata: started\n",
      "    Preparing wheel metadata: finished with status 'done'\n",
      "Collecting pysimplevalidate>=0.2.7\n",
      "  Downloading PySimpleValidate-0.2.12.tar.gz (22 kB)\n",
      "  Installing build dependencies: started\n",
      "  Installing build dependencies: finished with status 'done'\n",
      "  Getting requirements to build wheel: started\n",
      "  Getting requirements to build wheel: finished with status 'done'\n",
      "    Preparing wheel metadata: started\n",
      "    Preparing wheel metadata: finished with status 'done'\n",
      "Building wheels for collected packages: pyinputplus, pysimplevalidate, stdiomask\n",
      "  Building wheel for pyinputplus (PEP 517): started\n",
      "  Building wheel for pyinputplus (PEP 517): finished with status 'done'\n",
      "  Created wheel for pyinputplus: filename=PyInputPlus-0.2.12-py3-none-any.whl size=11315 sha256=3f8dfc76d92bb11ac0cfa49e3beb1ba04b28118dd20f62bfd7663f0aba39769f\n",
      "  Stored in directory: c:\\users\\aayush\\appdata\\local\\pip\\cache\\wheels\\b4\\6e\\2f\\8a852732646cabec36c3fe8fc060ec5bea1c1be711432c47f7\n",
      "  Building wheel for pysimplevalidate (PEP 517): started\n",
      "  Building wheel for pysimplevalidate (PEP 517): finished with status 'done'\n",
      "  Created wheel for pysimplevalidate: filename=PySimpleValidate-0.2.12-py3-none-any.whl size=16193 sha256=e20a7880e95975582c06c70eddfa9be53ceebdb43e9fce37d6fa1bc049bf1a76\n",
      "  Stored in directory: c:\\users\\aayush\\appdata\\local\\pip\\cache\\wheels\\b1\\44\\4a\\043a4f4c4512c7cdfb0c2b8408b18b0de5fd45cac57f5dfa02\n",
      "  Building wheel for stdiomask (PEP 517): started\n",
      "  Building wheel for stdiomask (PEP 517): finished with status 'done'\n",
      "  Created wheel for stdiomask: filename=stdiomask-0.0.6-py3-none-any.whl size=3321 sha256=83fb0908ba1c20c16791da2b5adcc12e866ad9a0afc0feaa14b4456f012c8bc6\n",
      "  Stored in directory: c:\\users\\aayush\\appdata\\local\\pip\\cache\\wheels\\1d\\aa\\47\\f41f117d22c5de82e95d9342f44da578c80610739a2d5ebec4\n",
      "Successfully built pyinputplus pysimplevalidate stdiomask\n",
      "Installing collected packages: stdiomask, pysimplevalidate, pyinputplus\n",
      "Successfully installed pyinputplus-0.2.12 pysimplevalidate-0.2.12 stdiomask-0.0.6\n",
      "Note: you may need to restart the kernel to use updated packages.\n"
     ]
    }
   ],
   "source": [
    "pip install pyinputplus"
   ]
  },
  {
   "cell_type": "markdown",
   "id": "156b73b0",
   "metadata": {},
   "source": [
    "# 2. Why is PyInputPlus commonly imported with import pyinputplus as pypi?"
   ]
  },
  {
   "cell_type": "code",
   "execution_count": null,
   "id": "4e7948c2",
   "metadata": {},
   "outputs": [],
   "source": [
    "to make it easier to call"
   ]
  },
  {
   "cell_type": "markdown",
   "id": "a5579674",
   "metadata": {},
   "source": [
    "# 3. How do you distinguish between inputInt() and inputFloat()?"
   ]
  },
  {
   "cell_type": "code",
   "execution_count": 15,
   "id": "a4ebfab2",
   "metadata": {},
   "outputs": [
    {
     "name": "stdout",
     "output_type": "stream",
     "text": [
      "4.5\n",
      "'4.5' is not an integer.\n",
      "5.777777\n",
      "'5.777777' is not an integer.\n",
      "10\n"
     ]
    }
   ],
   "source": [
    "a=pypi.inputInt(\"please enter a integer only\")"
   ]
  },
  {
   "cell_type": "code",
   "execution_count": 18,
   "id": "63c3046a",
   "metadata": {},
   "outputs": [
    {
     "name": "stdout",
     "output_type": "stream",
     "text": [
      "please enter a float onlyk\n",
      "'k' is not a float.\n",
      "please enter a float onlyk\n",
      "'k' is not a float.\n",
      "please enter a float onlygchc\n",
      "'gchc' is not a float.\n",
      "please enter a float only8.9\n"
     ]
    }
   ],
   "source": [
    "b=pypi.inputFloat(\"please enter a float only\")"
   ]
  },
  {
   "cell_type": "markdown",
   "id": "e18d2151",
   "metadata": {},
   "source": [
    "# 4. Using PyInputPlus, how do you ensure that the user enters a whole number between 0 and 99?"
   ]
  },
  {
   "cell_type": "code",
   "execution_count": 2,
   "id": "f4969564",
   "metadata": {},
   "outputs": [],
   "source": [
    "import pyinputplus as pypi"
   ]
  },
  {
   "cell_type": "code",
   "execution_count": 3,
   "id": "e5aac59d",
   "metadata": {},
   "outputs": [
    {
     "name": "stdout",
     "output_type": "stream",
     "text": [
      "678\n",
      "Number must be at maximum 99.\n",
      "-1\n",
      "Number must be at minimum 0.\n",
      "6\n"
     ]
    }
   ],
   "source": [
    "a=pypi.inputNum(min=0,max=99)"
   ]
  },
  {
   "cell_type": "markdown",
   "id": "8c37a19d",
   "metadata": {},
   "source": [
    "# 5. What is transferred to the keyword arguments allowRegexes and blockRegexes?"
   ]
  },
  {
   "cell_type": "code",
   "execution_count": null,
   "id": "fbc8041e",
   "metadata": {},
   "outputs": [],
   "source": [
    "nahi aata"
   ]
  },
  {
   "cell_type": "markdown",
   "id": "099ce1c2",
   "metadata": {},
   "source": [
    "# 6. If a blank input is entered three times, what does inputStr(limit=3) do?"
   ]
  },
  {
   "cell_type": "code",
   "execution_count": null,
   "id": "a64a2276",
   "metadata": {},
   "outputs": [],
   "source": [
    "it will not take more input now and throw an error for e.g"
   ]
  },
  {
   "cell_type": "code",
   "execution_count": 11,
   "id": "37af68fc",
   "metadata": {},
   "outputs": [
    {
     "name": "stdout",
     "output_type": "stream",
     "text": [
      "\n",
      "Blank values are not allowed.\n",
      "\n",
      "Blank values are not allowed.\n",
      "\n",
      "Blank values are not allowed.\n",
      "blank value str not allowed in this fx\n"
     ]
    }
   ],
   "source": [
    "try:\n",
    "    a=pypi.inputStr(limit=3)\n",
    "except:\n",
    "    print(\"blank value str not allowed in this fx\")"
   ]
  },
  {
   "cell_type": "markdown",
   "id": "704337fb",
   "metadata": {},
   "source": [
    "# 7. If blank input is entered three times, what does inputStr(limit=3, default=&#39;hello&#39;) do?"
   ]
  },
  {
   "cell_type": "code",
   "execution_count": 14,
   "id": "35db60d4",
   "metadata": {},
   "outputs": [
    {
     "name": "stdout",
     "output_type": "stream",
     "text": [
      "\n",
      "Blank values are not allowed.\n",
      "\n",
      "Blank values are not allowed.\n",
      "\n",
      "Blank values are not allowed.\n"
     ]
    }
   ],
   "source": [
    "a=pypi.inputStr( default='hello',limit=3)"
   ]
  }
 ],
 "metadata": {
  "kernelspec": {
   "display_name": "Python 3 (ipykernel)",
   "language": "python",
   "name": "python3"
  },
  "language_info": {
   "codemirror_mode": {
    "name": "ipython",
    "version": 3
   },
   "file_extension": ".py",
   "mimetype": "text/x-python",
   "name": "python",
   "nbconvert_exporter": "python",
   "pygments_lexer": "ipython3",
   "version": "3.9.7"
  }
 },
 "nbformat": 4,
 "nbformat_minor": 5
}
