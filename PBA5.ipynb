{
 "cells": [
  {
   "cell_type": "markdown",
   "id": "51e26407",
   "metadata": {},
   "source": [
    "# 1. What does an empty dictionary&#39;s code look like?"
   ]
  },
  {
   "cell_type": "code",
   "execution_count": 3,
   "id": "10bed5a1",
   "metadata": {},
   "outputs": [],
   "source": [
    "a={}"
   ]
  },
  {
   "cell_type": "code",
   "execution_count": 4,
   "id": "d80e7cd6",
   "metadata": {},
   "outputs": [
    {
     "data": {
      "text/plain": [
       "dict"
      ]
     },
     "execution_count": 4,
     "metadata": {},
     "output_type": "execute_result"
    }
   ],
   "source": [
    "type(a)"
   ]
  },
  {
   "cell_type": "markdown",
   "id": "f8ea7c7b",
   "metadata": {},
   "source": [
    "# 2. What is the value of a dictionary value with the key &#39;foo&#39; and the value 42?"
   ]
  },
  {
   "cell_type": "code",
   "execution_count": 14,
   "id": "ff8aa048",
   "metadata": {},
   "outputs": [],
   "source": [
    "q2={\"foo\":42}"
   ]
  },
  {
   "cell_type": "code",
   "execution_count": 16,
   "id": "1d173139",
   "metadata": {},
   "outputs": [
    {
     "data": {
      "text/plain": [
       "42"
      ]
     },
     "execution_count": 16,
     "metadata": {},
     "output_type": "execute_result"
    }
   ],
   "source": [
    "q2[\"foo\"] #here i am showing you by calling these value with the help of key"
   ]
  },
  {
   "cell_type": "markdown",
   "id": "cd77a774",
   "metadata": {},
   "source": [
    "# 3. What is the most significant distinction between a dictionary and a list?"
   ]
  },
  {
   "cell_type": "code",
   "execution_count": 17,
   "id": "0dc08a47",
   "metadata": {},
   "outputs": [],
   "source": [
    "#dict is in key value pair always"
   ]
  },
  {
   "cell_type": "code",
   "execution_count": 18,
   "id": "8dc09d30",
   "metadata": {},
   "outputs": [],
   "source": [
    "a={\"aa\":345,\"adfh\":67}"
   ]
  },
  {
   "cell_type": "code",
   "execution_count": 19,
   "id": "e24e53f5",
   "metadata": {},
   "outputs": [],
   "source": [
    "#for evry one item there is an output here but not in list it is happening\n",
    "# in list all elements are individual"
   ]
  },
  {
   "cell_type": "code",
   "execution_count": 20,
   "id": "2b5b691a",
   "metadata": {},
   "outputs": [],
   "source": [
    "l=[1,2,3,4,5]"
   ]
  },
  {
   "cell_type": "markdown",
   "id": "51c608a9",
   "metadata": {},
   "source": [
    "# 4. What happens if you try to access spam[&#39;foo&#39;] if spam is {&#39;bar&#39;: 100}?"
   ]
  },
  {
   "cell_type": "code",
   "execution_count": 21,
   "id": "30101da5",
   "metadata": {},
   "outputs": [],
   "source": [
    "spam= {'bar': 100}"
   ]
  },
  {
   "cell_type": "raw",
   "id": "3a076d9c",
   "metadata": {},
   "source": [
    "#it gives me an key eroor becz i have not defined this"
   ]
  },
  {
   "cell_type": "code",
   "execution_count": 23,
   "id": "d4b36226",
   "metadata": {},
   "outputs": [
    {
     "ename": "KeyError",
     "evalue": "'foo'",
     "output_type": "error",
     "traceback": [
      "\u001b[1;31m---------------------------------------------------------------------------\u001b[0m",
      "\u001b[1;31mKeyError\u001b[0m                                  Traceback (most recent call last)",
      "\u001b[1;32m~\\AppData\\Local\\Temp/ipykernel_84/3841522104.py\u001b[0m in \u001b[0;36m<module>\u001b[1;34m\u001b[0m\n\u001b[1;32m----> 1\u001b[1;33m \u001b[0mspam\u001b[0m\u001b[1;33m[\u001b[0m\u001b[1;34m\"foo\"\u001b[0m\u001b[1;33m]\u001b[0m\u001b[1;33m\u001b[0m\u001b[1;33m\u001b[0m\u001b[0m\n\u001b[0m",
      "\u001b[1;31mKeyError\u001b[0m: 'foo'"
     ]
    }
   ],
   "source": [
    "spam[\"foo\"]    "
   ]
  },
  {
   "cell_type": "code",
   "execution_count": null,
   "id": "87119c1e",
   "metadata": {},
   "outputs": [],
   "source": []
  },
  {
   "cell_type": "code",
   "execution_count": null,
   "id": "afb6aeea",
   "metadata": {},
   "outputs": [],
   "source": []
  },
  {
   "cell_type": "markdown",
   "id": "afe0a9e4",
   "metadata": {},
   "source": [
    "# 5. If a dictionary is stored in spam, what is the difference between the expressions &#39;cat&#39; in spam and\n",
    "&#39;cat&#39; in spam.keys()?"
   ]
  },
  {
   "cell_type": "code",
   "execution_count": 27,
   "id": "cb384d4a",
   "metadata": {},
   "outputs": [
    {
     "name": "stdout",
     "output_type": "stream",
     "text": [
      "True\n",
      "dict_keys(['cat', 'dog'])\n",
      "True\n"
     ]
    }
   ],
   "source": [
    "spam = {\"cat\" : \"yes\" , \"dog\" : \"No\"}\n",
    "x = \"cat\" in spam.keys()\n",
    "print(x)\n",
    "print(spam.keys())\n",
    "y = \"cat\" in spam\n",
    "print(y)"
   ]
  },
  {
   "cell_type": "code",
   "execution_count": 28,
   "id": "5fe92c6f",
   "metadata": {},
   "outputs": [],
   "source": [
    "#in spam.keys it simply return all the keys"
   ]
  },
  {
   "cell_type": "code",
   "execution_count": 30,
   "id": "8d1ddbe0",
   "metadata": {},
   "outputs": [],
   "source": [
    "#in \"cat in spam statement \"   it tries to find out whether it is right or not"
   ]
  },
  {
   "cell_type": "markdown",
   "id": "9f4c208e",
   "metadata": {},
   "source": [
    "# 6. If a dictionary is stored in spam, what is the difference between the expressions &#39;cat&#39; in spam and\n",
    "&#39;cat&#39; in spam.values()?"
   ]
  },
  {
   "cell_type": "code",
   "execution_count": 31,
   "id": "92360d33",
   "metadata": {},
   "outputs": [
    {
     "name": "stdout",
     "output_type": "stream",
     "text": [
      "True\n",
      "dict_values(['yes', 'No'])\n",
      "True\n"
     ]
    }
   ],
   "source": [
    "spam = {\"cat\" : \"yes\" , \"dog\" : \"No\"}\n",
    "x = \"cat\" in spam.keys()\n",
    "print(x)\n",
    "print(spam.values())\n",
    "y = \"cat\" in spam\n",
    "print(y)"
   ]
  },
  {
   "cell_type": "markdown",
   "id": "c35306ff",
   "metadata": {},
   "source": [
    "# 7. What is a shortcut for the following code?\n",
    "if &#39;color&#39; not in spam:\n",
    "spam[&#39;color&#39;] = &#39;black&#39;"
   ]
  },
  {
   "cell_type": "code",
   "execution_count": 32,
   "id": "05e019fa",
   "metadata": {},
   "outputs": [],
   "source": [
    "spam = {\"cat\" : \"yes\" , \"dog\" : \"No\"}\n",
    "#for shortcut we just assign value and key"
   ]
  },
  {
   "cell_type": "code",
   "execution_count": 33,
   "id": "863f2d4b",
   "metadata": {},
   "outputs": [],
   "source": [
    "spam[\"color\"]=\"black\""
   ]
  },
  {
   "cell_type": "code",
   "execution_count": 34,
   "id": "466d141d",
   "metadata": {},
   "outputs": [
    {
     "data": {
      "text/plain": [
       "{'cat': 'yes', 'dog': 'No', 'color': 'black'}"
      ]
     },
     "execution_count": 34,
     "metadata": {},
     "output_type": "execute_result"
    }
   ],
   "source": [
    "spam"
   ]
  },
  {
   "cell_type": "markdown",
   "id": "7be58846",
   "metadata": {},
   "source": [
    "# 8. How do you &quot;pretty print&quot; dictionary values using which module and function?"
   ]
  },
  {
   "cell_type": "code",
   "execution_count": null,
   "id": "63b913a6",
   "metadata": {},
   "outputs": [],
   "source": []
  },
  {
   "cell_type": "code",
   "execution_count": null,
   "id": "be5213cb",
   "metadata": {},
   "outputs": [],
   "source": []
  }
 ],
 "metadata": {
  "kernelspec": {
   "display_name": "Python 3 (ipykernel)",
   "language": "python",
   "name": "python3"
  },
  "language_info": {
   "codemirror_mode": {
    "name": "ipython",
    "version": 3
   },
   "file_extension": ".py",
   "mimetype": "text/x-python",
   "name": "python",
   "nbconvert_exporter": "python",
   "pygments_lexer": "ipython3",
   "version": "3.9.7"
  }
 },
 "nbformat": 4,
 "nbformat_minor": 5
}
